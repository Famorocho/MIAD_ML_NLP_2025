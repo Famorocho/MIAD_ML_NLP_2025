{
 "cells": [
  {
   "cell_type": "markdown",
   "metadata": {},
   "source": [
    "![image info](https://raw.githubusercontent.com/albahnsen/MIAD_ML_and_NLP/main/images/banner_1.png)"
   ]
  },
  {
   "cell_type": "markdown",
   "metadata": {},
   "source": [
    "# Redes Neuronales\n",
    "\n",
    "En este notebook aprenderá a construir y a entrenar redes neuronales de una capa y multicapas, usando la librería [Keras](https://keras.io/).\n",
    "\n",
    "Este notebook tiene una licencia de [Creative Commons Attribution-ShareAlike 3.0 Unported License](http://creativecommons.org/licenses/by-sa/3.0/deed.en_US). Un agradecimiento especial para [Valerio Maggio](https://mpba.fbk.eu)."
   ]
  },
  {
   "cell_type": "markdown",
   "metadata": {},
   "source": [
    "## Instrucciones Generales\n",
    "\n",
    "Keras es una librería de redes neuronales altamente modular, escrita en Python y capaz de ejecutarse sobre TensorFlow o Theano. Fue desarrollada con el objetivo de permitir una experimentación rápida con modelos de redes neuronales.\n",
    "\n",
    "Este notebook esta compuesto por dos secciones. En la primera sección, usted beberá construir y entrenar una red neuronal de una capa para predecir el precio de una casa con el set de datos Boston Housing Data. En la segunda parte, se usará el mismo dataset pero usted beberá construir y entrenar una red neuronal multicapa para identificar sus ventajas. Para conocer más detalles de la base, puede ingresar al siguiente [vínculo](https://archive.ics.uci.edu/ml/machine-learning-databases/housing/).\n",
    "   \n",
    "Para realizar la actividad, solo siga las indicaciones asociadas a cada celda del notebook. "
   ]
  },
  {
   "cell_type": "markdown",
   "metadata": {},
   "source": [
    "## Importar base de datos y librerías"
   ]
  },
  {
   "cell_type": "code",
   "execution_count": 1,
   "metadata": {},
   "outputs": [],
   "source": [
    "import warnings\n",
    "warnings.filterwarnings('ignore')"
   ]
  },
  {
   "cell_type": "code",
   "execution_count": 2,
   "metadata": {},
   "outputs": [],
   "source": [
    "# Importación librerías\n",
    "import pandas as pd\n",
    "from sklearn.datasets import load_boston\n",
    "import numpy as np\n",
    "import matplotlib.pyplot as plt\n",
    "from sklearn.model_selection import train_test_split"
   ]
  },
  {
   "cell_type": "code",
   "execution_count": 3,
   "metadata": {},
   "outputs": [
    {
     "data": {
      "text/html": [
       "<div>\n",
       "<style scoped>\n",
       "    .dataframe tbody tr th:only-of-type {\n",
       "        vertical-align: middle;\n",
       "    }\n",
       "\n",
       "    .dataframe tbody tr th {\n",
       "        vertical-align: top;\n",
       "    }\n",
       "\n",
       "    .dataframe thead th {\n",
       "        text-align: right;\n",
       "    }\n",
       "</style>\n",
       "<table border=\"1\" class=\"dataframe\">\n",
       "  <thead>\n",
       "    <tr style=\"text-align: right;\">\n",
       "      <th></th>\n",
       "      <th>CRIM</th>\n",
       "      <th>ZN</th>\n",
       "      <th>INDUS</th>\n",
       "      <th>CHAS</th>\n",
       "      <th>NOX</th>\n",
       "      <th>RM</th>\n",
       "      <th>AGE</th>\n",
       "      <th>DIS</th>\n",
       "      <th>RAD</th>\n",
       "      <th>TAX</th>\n",
       "      <th>PTRATIO</th>\n",
       "      <th>B</th>\n",
       "      <th>LSTAT</th>\n",
       "    </tr>\n",
       "  </thead>\n",
       "  <tbody>\n",
       "    <tr>\n",
       "      <th>0</th>\n",
       "      <td>0.00632</td>\n",
       "      <td>18.0</td>\n",
       "      <td>2.31</td>\n",
       "      <td>0.0</td>\n",
       "      <td>0.538</td>\n",
       "      <td>6.575</td>\n",
       "      <td>65.2</td>\n",
       "      <td>4.0900</td>\n",
       "      <td>1.0</td>\n",
       "      <td>296.0</td>\n",
       "      <td>15.3</td>\n",
       "      <td>396.90</td>\n",
       "      <td>4.98</td>\n",
       "    </tr>\n",
       "    <tr>\n",
       "      <th>1</th>\n",
       "      <td>0.02731</td>\n",
       "      <td>0.0</td>\n",
       "      <td>7.07</td>\n",
       "      <td>0.0</td>\n",
       "      <td>0.469</td>\n",
       "      <td>6.421</td>\n",
       "      <td>78.9</td>\n",
       "      <td>4.9671</td>\n",
       "      <td>2.0</td>\n",
       "      <td>242.0</td>\n",
       "      <td>17.8</td>\n",
       "      <td>396.90</td>\n",
       "      <td>9.14</td>\n",
       "    </tr>\n",
       "    <tr>\n",
       "      <th>2</th>\n",
       "      <td>0.02729</td>\n",
       "      <td>0.0</td>\n",
       "      <td>7.07</td>\n",
       "      <td>0.0</td>\n",
       "      <td>0.469</td>\n",
       "      <td>7.185</td>\n",
       "      <td>61.1</td>\n",
       "      <td>4.9671</td>\n",
       "      <td>2.0</td>\n",
       "      <td>242.0</td>\n",
       "      <td>17.8</td>\n",
       "      <td>392.83</td>\n",
       "      <td>4.03</td>\n",
       "    </tr>\n",
       "    <tr>\n",
       "      <th>3</th>\n",
       "      <td>0.03237</td>\n",
       "      <td>0.0</td>\n",
       "      <td>2.18</td>\n",
       "      <td>0.0</td>\n",
       "      <td>0.458</td>\n",
       "      <td>6.998</td>\n",
       "      <td>45.8</td>\n",
       "      <td>6.0622</td>\n",
       "      <td>3.0</td>\n",
       "      <td>222.0</td>\n",
       "      <td>18.7</td>\n",
       "      <td>394.63</td>\n",
       "      <td>2.94</td>\n",
       "    </tr>\n",
       "    <tr>\n",
       "      <th>4</th>\n",
       "      <td>0.06905</td>\n",
       "      <td>0.0</td>\n",
       "      <td>2.18</td>\n",
       "      <td>0.0</td>\n",
       "      <td>0.458</td>\n",
       "      <td>7.147</td>\n",
       "      <td>54.2</td>\n",
       "      <td>6.0622</td>\n",
       "      <td>3.0</td>\n",
       "      <td>222.0</td>\n",
       "      <td>18.7</td>\n",
       "      <td>396.90</td>\n",
       "      <td>5.33</td>\n",
       "    </tr>\n",
       "  </tbody>\n",
       "</table>\n",
       "</div>"
      ],
      "text/plain": [
       "      CRIM    ZN  INDUS  CHAS    NOX     RM   AGE     DIS  RAD    TAX  \\\n",
       "0  0.00632  18.0   2.31   0.0  0.538  6.575  65.2  4.0900  1.0  296.0   \n",
       "1  0.02731   0.0   7.07   0.0  0.469  6.421  78.9  4.9671  2.0  242.0   \n",
       "2  0.02729   0.0   7.07   0.0  0.469  7.185  61.1  4.9671  2.0  242.0   \n",
       "3  0.03237   0.0   2.18   0.0  0.458  6.998  45.8  6.0622  3.0  222.0   \n",
       "4  0.06905   0.0   2.18   0.0  0.458  7.147  54.2  6.0622  3.0  222.0   \n",
       "\n",
       "   PTRATIO       B  LSTAT  \n",
       "0     15.3  396.90   4.98  \n",
       "1     17.8  396.90   9.14  \n",
       "2     17.8  392.83   4.03  \n",
       "3     18.7  394.63   2.94  \n",
       "4     18.7  396.90   5.33  "
      ]
     },
     "execution_count": 3,
     "metadata": {},
     "output_type": "execute_result"
    }
   ],
   "source": [
    "from sklearn.datasets import load_boston\n",
    "# Carga de datos de la librería sklearn\n",
    "boston_dataset = load_boston()\n",
    "boston = pd.DataFrame(boston_dataset.data, columns=boston_dataset.feature_names)\n",
    "boston.head()"
   ]
  },
  {
   "cell_type": "markdown",
   "metadata": {},
   "source": [
    "## Definición de variables predictoras  y de interés"
   ]
  },
  {
   "cell_type": "code",
   "execution_count": 4,
   "metadata": {},
   "outputs": [],
   "source": [
    "# Definición de variables predictoras (X)\n",
    "X = boston.drop(boston.columns[-1],axis=1)\n",
    "# Definición de variable de interés (y)\n",
    "Y = pd.DataFrame(np.array(boston_dataset.target), columns=['labels'])"
   ]
  },
  {
   "cell_type": "code",
   "execution_count": 5,
   "metadata": {},
   "outputs": [],
   "source": [
    "# Separación de variables predictoras (X) y variable de interés (y) en set de entrenamiento y test usandola función train_test_split\n",
    "X_train, X_test , Y_train, Y_test = train_test_split(X,Y, test_size=0.3 ,random_state=22)"
   ]
  },
  {
   "cell_type": "code",
   "execution_count": 6,
   "metadata": {},
   "outputs": [],
   "source": [
    "# Normalización de variables predictoras (X) con la función StandardScaler\n",
    "from sklearn.preprocessing import StandardScaler\n",
    "\n",
    "# Definición de la función StandardScaler\n",
    "scaler = StandardScaler()\n",
    "scaler.fit(X)\n",
    "\n",
    "# Transformación de los set de entrenamiento y test\n",
    "X_train = pd.DataFrame(data=scaler.transform(X_train), columns=X_train.columns, index=X_train.index)\n",
    "X_test = pd.DataFrame(data=scaler.transform(X_test), columns=X_test.columns, index=X_test.index)\n",
    "\n",
    "X_train = np.array(X_train)\n",
    "Y_train = np.array(Y_train)\n",
    "\n",
    "X_test = np.array(X_test)\n",
    "Y_test = np.array(Y_test)"
   ]
  },
  {
   "cell_type": "code",
   "execution_count": 7,
   "metadata": {},
   "outputs": [
    {
     "name": "stdout",
     "output_type": "stream",
     "text": [
      "1  output variables\n"
     ]
    }
   ],
   "source": [
    "# Definición de dimensiones de salida, varaibles de interés\n",
    "output_var = Y_train.shape[1]\n",
    "print(output_var, ' output variables')"
   ]
  },
  {
   "cell_type": "code",
   "execution_count": 8,
   "metadata": {},
   "outputs": [
    {
     "name": "stdout",
     "output_type": "stream",
     "text": [
      "12 input variables\n"
     ]
    }
   ],
   "source": [
    "# Definición de dimensiones de entrada, varaibles predictoras\n",
    "dims = X_train.shape[1]\n",
    "print(dims, 'input variables')"
   ]
  },
  {
   "cell_type": "markdown",
   "metadata": {},
   "source": [
    "# Red neuronal de una sola capa"
   ]
  },
  {
   "cell_type": "code",
   "execution_count": 9,
   "metadata": {
    "scrolled": true
   },
   "outputs": [],
   "source": [
    "# Importación librerías\n",
    "from keras.models import Sequential\n",
    "from keras.layers import Dense, Activation\n",
    "from livelossplot import PlotLossesKeras\n",
    "from keras import backend as K\n",
    "import keras.optimizers as opts"
   ]
  },
  {
   "cell_type": "code",
   "execution_count": 10,
   "metadata": {
    "scrolled": false
   },
   "outputs": [
    {
     "name": "stdout",
     "output_type": "stream",
     "text": [
      "Model: \"sequential\"\n",
      "_________________________________________________________________\n",
      " Layer (type)                Output Shape              Param #   \n",
      "=================================================================\n",
      " dense (Dense)               (None, 1)                 13        \n",
      "                                                                 \n",
      "=================================================================\n",
      "Total params: 13\n",
      "Trainable params: 13\n",
      "Non-trainable params: 0\n",
      "_________________________________________________________________\n",
      "None\n"
     ]
    }
   ],
   "source": [
    "K.clear_session()\n",
    "\n",
    "# Definición red neuronal con la función Sequential()\n",
    "model = Sequential()\n",
    "# Definición de la capa densa con un tamaño de salida igual a output_var y un input_shape de dims\n",
    "model.add(Dense(output_var, input_shape=(dims,)))\n",
    "\n",
    "# Impresión de la arquitectura de la red neuronal\n",
    "print(model.summary())"
   ]
  },
  {
   "cell_type": "code",
   "execution_count": 11,
   "metadata": {},
   "outputs": [],
   "source": [
    "# Definición de función de perdida. Se usa mean_squared_error dado que es un ejercicio de regresión\n",
    "model.compile(optimizer='sgd', loss='mean_squared_error')"
   ]
  },
  {
   "cell_type": "code",
   "execution_count": 12,
   "metadata": {
    "scrolled": false
   },
   "outputs": [
    {
     "data": {
      "image/png": "[encoded data removed]",
      "text/plain": [
       "<Figure size 864x576 with 2 Axes>"
      ]
     },
     "metadata": {
      "needs_background": "light"
     },
     "output_type": "display_data"
    },
    {
     "name": "stdout",
     "output_type": "stream",
     "text": [
      "Loss\n",
      "\ttraining         \t (min:   28.133, max:  475.269, cur:   28.193)\n",
      "\tvalidation       \t (min:   25.296, max:  373.117, cur:   25.378)\n",
      "\b\b\b\b\b\b\b\b\b\b\b\b\b\b\b\b\b\b\b\b\b\b\b\b\b\b\b\b\b\b\b\b\b\b\b\b\b\b\b\b\b\b\b\b\b\b\b\b\b\b\b\b\b\b\b\b\b\b\b\b\b\b\b\b\r",
      "12/12 [==============================] - 0s 22ms/step - loss: 28.1929 - val_loss: 25.3779\n"
     ]
    },
    {
     "data": {
      "text/plain": [
       "<keras.callbacks.History at 0x792f6806b990>"
      ]
     },
     "execution_count": 12,
     "metadata": {},
     "output_type": "execute_result"
    }
   ],
   "source": [
    "# Entrenamiento de la red neuronal con 50 épocas\n",
    "model.fit(X_train, Y_train, \n",
    "          verbose=1, \n",
    "          epochs=50, \n",
    "          validation_data=(X_test, Y_test),\n",
    "          callbacks=[PlotLossesKeras()])"
   ]
  },
  {
   "cell_type": "markdown",
   "metadata": {},
   "source": [
    "## Red neuronal de una sola capa con early stopping"
   ]
  },
  {
   "cell_type": "code",
   "execution_count": 13,
   "metadata": {},
   "outputs": [],
   "source": [
    "# Importación librerías\n",
    "from sklearn.model_selection import train_test_split\n",
    "from keras.callbacks import EarlyStopping, ModelCheckpoint"
   ]
  },
  {
   "cell_type": "code",
   "execution_count": 14,
   "metadata": {},
   "outputs": [
    {
     "name": "stdout",
     "output_type": "stream",
     "text": [
      "Model: \"sequential\"\n",
      "_________________________________________________________________\n",
      " Layer (type)                Output Shape              Param #   \n",
      "=================================================================\n",
      " dense (Dense)               (None, 1)                 13        \n",
      "                                                                 \n",
      "=================================================================\n",
      "Total params: 13\n",
      "Trainable params: 13\n",
      "Non-trainable params: 0\n",
      "_________________________________________________________________\n",
      "None\n"
     ]
    }
   ],
   "source": [
    "K.clear_session()\n",
    "\n",
    "# Definición red neuronal con la función Sequential()\n",
    "model = Sequential()\n",
    "# Definición de la capa densa con un tamaño de salida igual a output_var y un input_shape de dims\n",
    "model.add(Dense(output_var, input_shape=(dims,)))\n",
    "# Definición de función de perdida. Se usa mean_squared_error dado que es un ejercicio de regresión\n",
    "model.compile(optimizer='sgd', loss='mean_squared_error')\n",
    "\n",
    "# Impresión de la arquitectura de la red neuronal\n",
    "print(model.summary())"
   ]
  },
  {
   "cell_type": "code",
   "execution_count": 15,
   "metadata": {},
   "outputs": [],
   "source": [
    "# Definición de la función EarlyStopping para considerar durante el entrenamiento\n",
    "early_stop = EarlyStopping(monitor='val_loss', patience=2, verbose=1) "
   ]
  },
  {
   "cell_type": "code",
   "execution_count": 16,
   "metadata": {},
   "outputs": [],
   "source": [
    "# Definición de la función ModelCheckpoint para guardar el modelo con mejor desempeño\n",
    "fBestModel = 'best_model.h5'\n",
    "best_model = ModelCheckpoint(fBestModel, verbose=0, save_best_only=True)"
   ]
  },
  {
   "cell_type": "code",
   "execution_count": 17,
   "metadata": {
    "scrolled": true
   },
   "outputs": [
    {
     "name": "stdout",
     "output_type": "stream",
     "text": [
      "Epoch 1/50\n",
      "3/3 [==============================] - 0s 70ms/step - loss: 567.4894 - val_loss: 544.2797\n",
      "Epoch 2/50\n",
      "3/3 [==============================] - 0s 33ms/step - loss: 493.3296 - val_loss: 477.8334\n",
      "Epoch 3/50\n",
      "3/3 [==============================] - 0s 31ms/step - loss: 434.2515 - val_loss: 422.8748\n",
      "Epoch 4/50\n",
      "3/3 [==============================] - 0s 34ms/step - loss: 385.5049 - val_loss: 376.5038\n",
      "Epoch 5/50\n",
      "3/3 [==============================] - 0s 35ms/step - loss: 344.1765 - val_loss: 336.7887\n",
      "Epoch 6/50\n",
      "3/3 [==============================] - 0s 33ms/step - loss: 308.3135 - val_loss: 302.2440\n",
      "Epoch 7/50\n",
      "3/3 [==============================] - 0s 32ms/step - loss: 277.0280 - val_loss: 271.9382\n",
      "Epoch 8/50\n",
      "3/3 [==============================] - 0s 34ms/step - loss: 249.4325 - val_loss: 244.7909\n",
      "Epoch 9/50\n",
      "3/3 [==============================] - 0s 33ms/step - loss: 225.0984 - val_loss: 221.0045\n",
      "Epoch 10/50\n",
      "3/3 [==============================] - 0s 34ms/step - loss: 203.3891 - val_loss: 199.6418\n",
      "Epoch 11/50\n",
      "3/3 [==============================] - 0s 34ms/step - loss: 184.0068 - val_loss: 180.3362\n",
      "Epoch 12/50\n",
      "3/3 [==============================] - 0s 37ms/step - loss: 166.8565 - val_loss: 163.5363\n",
      "Epoch 13/50\n",
      "3/3 [==============================] - 0s 30ms/step - loss: 151.8451 - val_loss: 148.4286\n",
      "Epoch 14/50\n",
      "3/3 [==============================] - 0s 30ms/step - loss: 138.1881 - val_loss: 134.8817\n",
      "Epoch 15/50\n",
      "3/3 [==============================] - 0s 32ms/step - loss: 126.2605 - val_loss: 123.0022\n",
      "Epoch 16/50\n",
      "3/3 [==============================] - 0s 33ms/step - loss: 115.4284 - val_loss: 112.2012\n",
      "Epoch 17/50\n",
      "3/3 [==============================] - 0s 32ms/step - loss: 105.9021 - val_loss: 102.8753\n",
      "Epoch 18/50\n",
      "3/3 [==============================] - 0s 31ms/step - loss: 97.5976 - val_loss: 94.5533\n",
      "Epoch 19/50\n",
      "3/3 [==============================] - 0s 29ms/step - loss: 89.9873 - val_loss: 87.0366\n",
      "Epoch 20/50\n",
      "3/3 [==============================] - 0s 31ms/step - loss: 83.4105 - val_loss: 80.2740\n",
      "Epoch 21/50\n",
      "3/3 [==============================] - 0s 31ms/step - loss: 77.4262 - val_loss: 74.2659\n",
      "Epoch 22/50\n",
      "3/3 [==============================] - 0s 32ms/step - loss: 72.1658 - val_loss: 69.0839\n",
      "Epoch 23/50\n",
      "3/3 [==============================] - 0s 31ms/step - loss: 67.4754 - val_loss: 64.3755\n",
      "Epoch 24/50\n",
      "3/3 [==============================] - 0s 32ms/step - loss: 63.3319 - val_loss: 60.3346\n",
      "Epoch 25/50\n",
      "3/3 [==============================] - 0s 31ms/step - loss: 59.7020 - val_loss: 56.6376\n",
      "Epoch 26/50\n",
      "3/3 [==============================] - 0s 34ms/step - loss: 56.3257 - val_loss: 53.2439\n",
      "Epoch 27/50\n",
      "3/3 [==============================] - 0s 32ms/step - loss: 53.3477 - val_loss: 50.3235\n",
      "Epoch 28/50\n",
      "3/3 [==============================] - 0s 31ms/step - loss: 50.7665 - val_loss: 47.7048\n",
      "Epoch 29/50\n",
      "3/3 [==============================] - 0s 31ms/step - loss: 48.3944 - val_loss: 45.4106\n",
      "Epoch 30/50\n",
      "3/3 [==============================] - 0s 32ms/step - loss: 46.3066 - val_loss: 43.2551\n",
      "Epoch 31/50\n",
      "3/3 [==============================] - 0s 34ms/step - loss: 44.4286 - val_loss: 41.3537\n",
      "Epoch 32/50\n",
      "3/3 [==============================] - 0s 38ms/step - loss: 42.7063 - val_loss: 39.6778\n",
      "Epoch 33/50\n",
      "3/3 [==============================] - 0s 39ms/step - loss: 41.2328 - val_loss: 38.2103\n",
      "Epoch 34/50\n",
      "3/3 [==============================] - 0s 37ms/step - loss: 39.9477 - val_loss: 36.8296\n",
      "Epoch 35/50\n",
      "3/3 [==============================] - 0s 37ms/step - loss: 38.7575 - val_loss: 35.6267\n",
      "Epoch 36/50\n",
      "3/3 [==============================] - 0s 32ms/step - loss: 37.6908 - val_loss: 34.6136\n",
      "Epoch 37/50\n",
      "3/3 [==============================] - 0s 30ms/step - loss: 36.7887 - val_loss: 33.7037\n",
      "Epoch 38/50\n",
      "3/3 [==============================] - 0s 31ms/step - loss: 35.9496 - val_loss: 32.8414\n",
      "Epoch 39/50\n",
      "3/3 [==============================] - 0s 32ms/step - loss: 35.1408 - val_loss: 32.1368\n",
      "Epoch 40/50\n",
      "3/3 [==============================] - 0s 31ms/step - loss: 34.5778 - val_loss: 31.4716\n",
      "Epoch 41/50\n",
      "3/3 [==============================] - 0s 33ms/step - loss: 33.9692 - val_loss: 30.8711\n",
      "Epoch 42/50\n",
      "3/3 [==============================] - 0s 31ms/step - loss: 33.4306 - val_loss: 30.2793\n",
      "Epoch 43/50\n",
      "3/3 [==============================] - 0s 31ms/step - loss: 32.8993 - val_loss: 29.8463\n",
      "Epoch 44/50\n",
      "3/3 [==============================] - 0s 30ms/step - loss: 32.4902 - val_loss: 29.4033\n",
      "Epoch 45/50\n",
      "3/3 [==============================] - 0s 31ms/step - loss: 32.0793 - val_loss: 29.1247\n",
      "Epoch 46/50\n",
      "3/3 [==============================] - 0s 32ms/step - loss: 31.7160 - val_loss: 28.8573\n",
      "Epoch 47/50\n",
      "3/3 [==============================] - 0s 34ms/step - loss: 31.3735 - val_loss: 28.5531\n",
      "Epoch 48/50\n",
      "3/3 [==============================] - 0s 30ms/step - loss: 31.1122 - val_loss: 28.3563\n",
      "Epoch 49/50\n",
      "3/3 [==============================] - 0s 33ms/step - loss: 30.8657 - val_loss: 28.1032\n",
      "Epoch 50/50\n",
      "3/3 [==============================] - 0s 31ms/step - loss: 30.5540 - val_loss: 27.8649\n"
     ]
    },
    {
     "data": {
      "text/plain": [
       "<keras.callbacks.History at 0x792f5826fc90>"
      ]
     },
     "execution_count": 17,
     "metadata": {},
     "output_type": "execute_result"
    }
   ],
   "source": [
    "# Entrenamiento de la red neuronal con 50 épocas y early stopping\n",
    "model.fit(X_train, Y_train, \n",
    "          verbose=True, \n",
    "          epochs=50, \n",
    "          batch_size=128,\n",
    "          validation_data=(X_test,Y_test),\n",
    "          callbacks=[best_model, early_stop])"
   ]
  },
  {
   "cell_type": "markdown",
   "metadata": {},
   "source": [
    "# Red Neuronal Multicapa"
   ]
  },
  {
   "cell_type": "code",
   "execution_count": 18,
   "metadata": {},
   "outputs": [
    {
     "name": "stdout",
     "output_type": "stream",
     "text": [
      "Model: \"sequential\"\n",
      "_________________________________________________________________\n",
      " Layer (type)                Output Shape              Param #   \n",
      "=================================================================\n",
      " dense (Dense)               (None, 256)               3328      \n",
      "                                                                 \n",
      " dense_1 (Dense)             (None, 256)               65792     \n",
      "                                                                 \n",
      " dense_2 (Dense)             (None, 1)                 257       \n",
      "                                                                 \n",
      " activation (Activation)     (None, 1)                 0         \n",
      "                                                                 \n",
      "=================================================================\n",
      "Total params: 69,377\n",
      "Trainable params: 69,377\n",
      "Non-trainable params: 0\n",
      "_________________________________________________________________\n",
      "None\n"
     ]
    }
   ],
   "source": [
    "K.clear_session()\n",
    "\n",
    "# Definición red neuronal con la función Sequential()\n",
    "model = Sequential()\n",
    "\n",
    "# Definición de la capa densa con un tamaño de salida igual a output_var y un input_shape de dims\n",
    "model.add(Dense(256, input_shape=(dims,),activation='relu'))\n",
    "model.add(Dense(256,activation='relu'))\n",
    "model.add(Dense(output_var))\n",
    "model.add(Activation('relu'))\n",
    "\n",
    "# Impresión de la arquitectura de la red neuronal\n",
    "print(model.summary())"
   ]
  },
  {
   "cell_type": "code",
   "execution_count": 19,
   "metadata": {},
   "outputs": [],
   "source": [
    "# Definición de función de perdida. Se usa mean_squared_error dado que es un ejercicio de regresión\n",
    "model.compile(optimizer='sgd', loss='mean_squared_error')"
   ]
  },
  {
   "cell_type": "code",
   "execution_count": 20,
   "metadata": {},
   "outputs": [],
   "source": [
    "# Separación de datos de entrenamiento para considerar un set de validación durante entrenamiento\n",
    "X_train, X_val, Y_train, Y_val = train_test_split(X_train, Y_train, test_size=0.15, random_state=42)"
   ]
  },
  {
   "cell_type": "code",
   "execution_count": 21,
   "metadata": {},
   "outputs": [
    {
     "data": {
      "image/png": "[encoded data removed]",
      "text/plain": [
       "<Figure size 864x576 with 2 Axes>"
      ]
     },
     "metadata": {
      "needs_background": "light"
     },
     "output_type": "display_data"
    },
    {
     "name": "stdout",
     "output_type": "stream",
     "text": [
      "Loss\n",
      "\ttraining         \t (min:   10.264, max:  400.124, cur:   13.172)\n",
      "\tvalidation       \t (min:   10.046, max:  401.999, cur:   16.058)\n",
      "\b\b\b\b\b\b\b\b\b\b\b\b\b\b\b\b\b\b\b\b\b\b\b\b\b\b\b\b\b\b\b\b\b\b\b\b\b\b\b\b\b\b\b\b\b\b\b\b\b\b\b\b\b\b\b\b\b\b\b\b\b\b\b\b\r",
      "10/10 [==============================] - 0s 28ms/step - loss: 13.1720 - val_loss: 16.0575\n"
     ]
    },
    {
     "data": {
      "text/plain": [
       "<keras.callbacks.History at 0x792f287a3290>"
      ]
     },
     "execution_count": 21,
     "metadata": {},
     "output_type": "execute_result"
    }
   ],
   "source": [
    "# Entrenamiento de la red neuronal con 50 épocas\n",
    "model.fit(X_train, Y_train,\n",
    "          validation_data = (X_val, Y_val),\n",
    "          epochs=50, \n",
    "          callbacks=[PlotLossesKeras()])"
   ]
  },
  {
   "cell_type": "code",
   "execution_count": null,
   "metadata": {},
   "outputs": [],
   "source": []
  }
 ],
 "metadata": {
  "kernelspec": {
   "display_name": "Python 3",
   "language": "python",
   "name": "python3"
  },
  "language_info": {
   "codemirror_mode": {
    "name": "ipython",
    "version": 3
   },
   "file_extension": ".py",
   "mimetype": "text/x-python",
   "name": "python",
   "nbconvert_exporter": "python",
   "pygments_lexer": "ipython3",
   "version": "3.7.6"
  }
 },
 "nbformat": 4,
 "nbformat_minor": 2
}
