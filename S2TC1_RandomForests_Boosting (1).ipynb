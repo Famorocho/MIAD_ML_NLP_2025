{
 "cells": [
  {
   "cell_type": "markdown",
   "metadata": {},
   "source": [
    "![image info](https://raw.githubusercontent.com/albahnsen/MIAD_ML_and_NLP/main/images/banner_1.png)"
   ]
  },
  {
   "cell_type": "markdown",
   "metadata": {},
   "source": [
    "# Taller: Construcción e implementación de modelos Bagging, Random Forest y XGBoost\n",
    "\n",
    "En este taller podrán poner en práctica sus conocimientos sobre la construcción e implementación de modelos de Bagging, Random Forest y XGBoost. El taller está constituido por 8 puntos, en los cuales deberan seguir las intrucciones de cada numeral para su desarrollo."
   ]
  },
  {
   "cell_type": "markdown",
   "metadata": {},
   "source": [
    "## Datos predicción precio de automóviles\n",
    "\n",
    "En este taller se usará el conjunto de datos de Car Listings de Kaggle donde cada observación representa el precio de un automóvil teniendo en cuenta distintas variables como año, marca, modelo, entre otras. El objetivo es predecir el precio del automóvil. Para más detalles puede visitar el siguiente enlace: [datos](https://www.kaggle.com/jpayne/852k-used-car-listings)."
   ]
  },
  {
   "cell_type": "code",
   "execution_count": 1,
   "metadata": {},
   "outputs": [],
   "source": [
    "import warnings\n",
    "warnings.filterwarnings('ignore')"
   ]
  },
  {
   "cell_type": "code",
   "execution_count": 3,
   "metadata": {},
   "outputs": [
    {
     "name": "stdout",
     "output_type": "stream",
     "text": [
      "<class 'pandas.core.frame.DataFrame'>\n",
      "Index: 10495 entries, 7 to 399976\n",
      "Data columns (total 10 columns):\n",
      " #   Column       Non-Null Count  Dtype\n",
      "---  ------       --------------  -----\n",
      " 0   Price        10495 non-null  int64\n",
      " 1   Year         10495 non-null  int64\n",
      " 2   Mileage      10495 non-null  int64\n",
      " 3   M_Camry      10495 non-null  bool \n",
      " 4   M_Camry4dr   10495 non-null  bool \n",
      " 5   M_CamryBase  10495 non-null  bool \n",
      " 6   M_CamryL     10495 non-null  bool \n",
      " 7   M_CamryLE    10495 non-null  bool \n",
      " 8   M_CamrySE    10495 non-null  bool \n",
      " 9   M_CamryXLE   10495 non-null  bool \n",
      "dtypes: bool(7), int64(3)\n",
      "memory usage: 399.7 KB\n"
     ]
    }
   ],
   "source": [
    "# Importación de librerías\n",
    "%matplotlib inline\n",
    "import pandas as pd\n",
    "from sklearn.metrics import mean_squared_error, mean_absolute_error\n",
    "\n",
    "# Lectura de la información de archivo .csv\n",
    "data = pd.read_csv('https://raw.githubusercontent.com/albahnsen/MIAD_ML_and_NLP/main/datasets/dataTrain_carListings.zip')\n",
    "\n",
    "# Preprocesamiento de datos para el taller\n",
    "data = data.loc[data['Model'].str.contains('Camry')].drop(['Make', 'State'], axis=1)\n",
    "data = data.join(pd.get_dummies(data['Model'], prefix='M'))\n",
    "data = data.drop(['Model'], axis=1)\n",
    "\n",
    "# Visualización dataset\n",
    "data.head()\n",
    "data.info()"
   ]
  },
  {
   "cell_type": "code",
   "execution_count": 6,
   "metadata": {},
   "outputs": [],
   "source": [
    "# Separación de variables predictoras (X) y variable de interés (y)\n",
    "y = data['Price']\n",
    "X = data.drop(['Price'], axis=1)"
   ]
  },
  {
   "cell_type": "code",
   "execution_count": 8,
   "metadata": {},
   "outputs": [],
   "source": [
    "# Separación de datos en set de entrenamiento y test\n",
    "from sklearn.model_selection import train_test_split\n",
    "X_train, X_test, y_train, y_test = train_test_split(X, y, test_size=0.33, random_state=42)"
   ]
  },
  {
   "cell_type": "markdown",
   "metadata": {},
   "source": [
    "### Punto 1 - Árbol de decisión manual\n",
    "\n",
    "En la celda 1 creen un árbol de decisión **manualmente**  que considere los set de entrenamiento y test definidos anteriormente y presenten el RMSE y MAE del modelo en el set de test."
   ]
  },
  {
   "cell_type": "code",
   "execution_count": 48,
   "metadata": {},
   "outputs": [
    {
     "name": "stdout",
     "output_type": "stream",
     "text": [
      "RMSE del árbol manual: 3635.23\n",
      "MAE del árbol manual: 2875.55\n"
     ]
    }
   ],
   "source": [
    "def arbol_manual_camry(row):\n",
    "    # Año reciente (>=2020)\n",
    "    if row['Year'] >= 2020:\n",
    "        if row['Mileage'] < 20000:\n",
    "            if row['M_CamryXLE'] == 1:\n",
    "                return 26500\n",
    "            elif row['M_CamrySE'] == 1:\n",
    "                return 25000\n",
    "            else:\n",
    "                return 23500\n",
    "        else:\n",
    "            return 22000\n",
    " \n",
    "    # Año 2015–2019\n",
    "    elif row['Year'] >= 2015:\n",
    "        if row['Mileage'] < 60000:\n",
    "            if row['M_CamrySE'] == 1:\n",
    "                return 19000\n",
    "            elif row['M_CamryLE'] == 1:\n",
    "                return 18000\n",
    "            elif row['M_CamryXLE'] == 1:\n",
    "                return 20000\n",
    "            else:\n",
    "                return 17000\n",
    "        else:\n",
    "            return 15000\n",
    " \n",
    "    # Año <2015\n",
    "    else:\n",
    "        if row['Mileage'] < 100000:\n",
    "            if row['M_CamryBase'] == 1 or row['M_CamryL'] == 1:\n",
    "                return 11000\n",
    "            elif row['M_Camry4dr'] == 1:\n",
    "                return 10000\n",
    "            else:\n",
    "                return 9500\n",
    "        else:\n",
    "            return 8000\n",
    "\n",
    "y_pred_manual = X_test.apply(arbol_manual_camry, axis=1)\n",
    "rmse = np.sqrt(mean_squared_error(y_test, y_pred_manual))\n",
    "mae = mean_absolute_error(y_test, y_pred_manual)\n",
    " \n",
    "print(f\"RMSE del árbol manual: {rmse:.2f}\")\n",
    "print(f\"MAE del árbol manual: {mae:.2f}\")"
   ]
  },
  {
   "cell_type": "markdown",
   "metadata": {},
   "source": [
    "El árbol de decisión manual presentó un RMSE de 3635.23 y un MAE de 2875.55 sobre el conjunto de prueba. Estos valores reflejan un nivel de error relativamente alto, lo cual era esperable considerando que el modelo fue construido a partir de reglas fijas y generales, sin ajustarse automáticamente a los patrones específicos del conjunto de entrenamiento.\n",
    "Este tipo de modelo tiene el mérito de ser transparente e interpretable, lo que puede ser útil en entornos donde se requiere justificar cada decisión. Sin embargo, su precisión es limitada:\n",
    "No se adapta a relaciones complejas o interacciones entre variables.\n",
    "Es sensible a los rangos elegidos manualmente para segmentar las observacione"
   ]
  },
  {
   "cell_type": "markdown",
   "metadata": {},
   "source": [
    "### Punto 2 - Bagging manual\n",
    "\n",
    "En la celda 2 creen un modelo bagging **manualmente** con 10 árboles de regresión y comenten sobre el desempeño del modelo."
   ]
  },
  {
   "cell_type": "code",
   "execution_count": 50,
   "metadata": {},
   "outputs": [
    {
     "name": "stdout",
     "output_type": "stream",
     "text": [
      "RMSE del modelo Bagging manual: 1795.51\n",
      "MAE del modelo Bagging manual: 1336.03\n"
     ]
    }
   ],
   "source": [
    "from sklearn.tree import DecisionTreeRegressor\n",
    " \n",
    "# Lista para almacenar los modelos\n",
    "modelos = []\n",
    "predicciones_test = []\n",
    " \n",
    "# Entrenamos 10 árboles con diferentes muestras bootstrap\n",
    "for i in range(10):\n",
    "    # Crear muestra bootstrap\n",
    "    X_sample, y_sample = resample(X_train, y_train, replace=True, random_state=42 + i)\n",
    "    \n",
    "    # Entrenar árbol de regresión\n",
    "    arbol = DecisionTreeRegressor(random_state=42 + i)\n",
    "    arbol.fit(X_sample, y_sample)\n",
    "    modelos.append(arbol)\n",
    "    \n",
    "    # Predecir sobre el set de prueba\n",
    "    pred = arbol.predict(X_test)\n",
    "    predicciones_test.append(pred)\n",
    " \n",
    "# Promediar predicciones (bagging)\n",
    "y_pred_bagging = np.mean(predicciones_test, axis=0)\n",
    " \n",
    "# Evaluar desempeño\n",
    "rmse_bagging = np.sqrt(mean_squared_error(y_test, y_pred_bagging))\n",
    "mae_bagging = mean_absolute_error(y_test, y_pred_bagging)\n",
    " \n",
    "print(f\"RMSE del modelo Bagging manual: {rmse_bagging:.2f}\")\n",
    "print(f\"MAE del modelo Bagging manual: {mae_bagging:.2f}\")"
   ]
  },
  {
   "cell_type": "markdown",
   "metadata": {},
   "source": [
    "El modelo de bagging manual, construido a partir de 10 árboles de regresión entrenados con diferentes muestras bootstrap del conjunto de entrenamiento, logró un RMSE de 1795.51 y un MAE de 1336.03 en el conjunto de prueba.\n",
    "Comparado con el árbol de decisión manual:\n",
    "El RMSE se redujo en más del 50%, pasando de 3635.23 a 1795.51.\n",
    "El MAE también bajó significativamente, de 2875.55 a 1336.03.\n",
    " Esto demuestra cómo el ensamble de múltiples modelos débiles puede ofrecer un desempeño mucho más robusto, al reducir la varianza y mitigar errores cometidos por árboles individuales. Además, al trabajar con bootstrap, el modelo aprovecha distintos subconjuntos de datos, generando una visión más completa y generalizable del problema.En resumen, el bagging manual:\n",
    "-Supera ampliamente al árbol manual en términos de precisión.\n",
    "-Muestra el poder del ensamble incluso sin hiperparámetros avanzados ni librerías específicas."
   ]
  },
  {
   "cell_type": "markdown",
   "metadata": {},
   "source": [
    "### Punto 3 - Bagging con librería\n",
    "\n",
    "En la celda 3, con la librería sklearn, entrenen un modelo bagging con 10 árboles de regresión y el parámetro `max_features` igual a `log(n_features)` y comenten sobre el desempeño del modelo."
   ]
  },
  {
   "cell_type": "code",
   "execution_count": 54,
   "metadata": {},
   "outputs": [
    {
     "name": "stdout",
     "output_type": "stream",
     "text": [
      "RMSE del modelo Bagging (sklearn): 2768.35\n",
      "MAE del modelo Bagging (sklearn): 2160.76\n"
     ]
    }
   ],
   "source": [
    "from sklearn.ensemble import BaggingRegressor\n",
    "from sklearn.tree import DecisionTreeRegressor\n",
    "from math import log\n",
    " \n",
    "# Número de características\n",
    "n_features = X_train.shape[1]\n",
    "max_features_log = int(log(n_features))  # log(n_features)\n",
    " \n",
    "# Crear modelo Bagging con 10 árboles y max_features = log(n_features)\n",
    "bagging_model = BaggingRegressor(\n",
    "    estimator=DecisionTreeRegressor(),\n",
    "    n_estimators=10,\n",
    "    max_features=max_features_log,\n",
    "    random_state=42\n",
    ")\n",
    " \n",
    "# Entrenar modelo\n",
    "bagging_model.fit(X_train, y_train)\n",
    " \n",
    "# Predecir en el set de test\n",
    "y_pred_bagging_lib = bagging_model.predict(X_test)\n",
    " \n",
    "# Evaluar desempeño\n",
    "rmse_bag_lib = np.sqrt(mean_squared_error(y_test, y_pred_bagging_lib))\n",
    "mae_bag_lib = mean_absolute_error(y_test, y_pred_bagging_lib)\n",
    " \n",
    "print(f\"RMSE del modelo Bagging (sklearn): {rmse_bag_lib:.2f}\")\n",
    "print(f\"MAE del modelo Bagging (sklearn): {mae_bag_lib:.2f}\")"
   ]
  },
  {
   "cell_type": "markdown",
   "metadata": {},
   "source": [
    "El modelo de Bagging implementado con la librería sklearn obtuvo un RMSE de 2768.35 y un MAE de 2160.76 en el conjunto de prueba. Este modelo usó 10 árboles de regresión con max_features = log(n_features), lo que limitó la cantidad de variables que cada árbol podía ver al momento de entrenarse.\n",
    "Comparado con los otros enfoques:\n",
    "Mejora respecto al árbol manual, con una reducción del RMSE de 24% y del MAE de 25%.\n",
    "Sin embargo, el bagging manual superó al modelo de sklearn, mostrando un RMSE mucho menor (1795.51 vs 2768.35).\n",
    "Esto se puede explicar por el parámetro max_features = log(n_features), que reduce la diversidad de información disponible para cada árbol. Aunque esta configuración puede ser útil para reducir el sobreajuste en algunos casos, aquí probablemente limitó la capacidad predictiva de los árboles dentro del ensamble.En resumen:\n",
    "-El modelo de sklearn muestra mejoras sobre el árbol manual.\n",
    "-Su rendimiento fue inferior al bagging manual posiblemente por una configuración del parámetro max_features."
   ]
  },
  {
   "cell_type": "markdown",
   "metadata": {},
   "source": [
    "### Punto 4 - Random forest con librería\n",
    "\n",
    "En la celda 4, usando la librería sklearn entrenen un modelo de Randon Forest para regresión  y comenten sobre el desempeño del modelo."
   ]
  },
  {
   "cell_type": "code",
   "execution_count": 58,
   "metadata": {},
   "outputs": [
    {
     "name": "stdout",
     "output_type": "stream",
     "text": [
      "RMSE del modelo Random Forest: 1791.22\n",
      "MAE del modelo Random Forest: 1336.61\n"
     ]
    }
   ],
   "source": [
    "from sklearn.ensemble import RandomForestRegressor\n",
    " \n",
    "# Entrenamiento del modelo Random Forest\n",
    "rf_model = RandomForestRegressor(\n",
    "    n_estimators=100,      # Número de árboles\n",
    "    max_features='sqrt',   # Usa todas las variables disponibles (por defecto)\n",
    "    random_state=42,\n",
    "    n_jobs=-1              # Usa todos los núcleos disponibles para acelerar\n",
    ")\n",
    " \n",
    "rf_model.fit(X_train, y_train)\n",
    " \n",
    "# Predicciones\n",
    "y_pred_rf = rf_model.predict(X_test)\n",
    " \n",
    "# Evaluación del desempeño\n",
    "rmse_rf = np.sqrt(mean_squared_error(y_test, y_pred_rf))\n",
    "mae_rf = mean_absolute_error(y_test, y_pred_rf)\n",
    " \n",
    "print(f\"RMSE del modelo Random Forest: {rmse_rf:.2f}\")\n",
    "print(f\"MAE del modelo Random Forest: {mae_rf:.2f}\")\n"
   ]
  },
  {
   "cell_type": "markdown",
   "metadata": {},
   "source": [
    "El modelo de Random Forest obtuvo un RMSE de 1791.22 y un MAE de 1336.61 en el conjunto de prueba, logrando el mejor RMSE de todos los modelos evaluados hasta ahora (aunque por un margen muy pequeño respecto al bagging manual).\n",
    "Random Forest combina bagging (ensamble de árboles sobre muestras bootstrap) con una aleatorización adicional: en cada división del árbol, se considera solo un subconjunto aleatorio de variables. Esto:\n",
    "-Aumenta la diversidad entre los árboles,\n",
    "-Reduce el sobreajuste,\n",
    "-Y mejora la generalización del modelo."
   ]
  },
  {
   "cell_type": "markdown",
   "metadata": {},
   "source": [
    "### Punto 5 - Calibración de parámetros Random forest\n",
    "\n",
    "En la celda 5, calibren los parámetros max_depth, max_features y n_estimators del modelo de Randon Forest para regresión, comenten sobre el desempeño del modelo y describan cómo cada parámetro afecta el desempeño del modelo."
   ]
  },
  {
   "cell_type": "code",
   "execution_count": 64,
   "metadata": {},
   "outputs": [
    {
     "name": "stdout",
     "output_type": "stream",
     "text": [
      "Fitting 5 folds for each of 36 candidates, totalling 180 fits\n",
      "Mejores hiperparámetros encontrados: {'max_depth': 10, 'max_features': 'sqrt', 'n_estimators': 200}\n",
      "RMSE del modelo Random Forest calibrado: 1564.25\n",
      "MAE del modelo Random Forest calibrado: 1147.20\n"
     ]
    }
   ],
   "source": [
    "from sklearn.model_selection import GridSearchCV\n",
    " \n",
    "# Definir el modelo base\n",
    "rf = RandomForestRegressor(random_state=42, n_jobs=-1)\n",
    " \n",
    "# Definir la grilla de búsqueda\n",
    "param_grid = {\n",
    "    'n_estimators': [50, 100, 200],\n",
    "    'max_depth': [None, 10, 20, 30],\n",
    "    'max_features': ['sqrt', 'log2', 0.5]\n",
    "}\n",
    " \n",
    "# Grid search con validación cruzada de 5 folds\n",
    "grid_search = GridSearchCV(\n",
    "    estimator=rf,\n",
    "    param_grid=param_grid,\n",
    "    cv=5,\n",
    "    scoring='neg_root_mean_squared_error',\n",
    "    verbose=1,\n",
    "    n_jobs=-1\n",
    ")\n",
    " \n",
    "# Entrenar la búsqueda\n",
    "grid_search.fit(X_train, y_train)\n",
    " \n",
    "# Mejor modelo\n",
    "mejor_modelo = grid_search.best_estimator_\n",
    " \n",
    "# Predicción con el mejor modelo\n",
    "y_pred_rf_tuned = mejor_modelo.predict(X_test)\n",
    " \n",
    "# Evaluación\n",
    "rmse_rf_tuned = np.sqrt(mean_squared_error(y_test, y_pred_rf_tuned))\n",
    "mae_rf_tuned = mean_absolute_error(y_test, y_pred_rf_tuned)\n",
    " \n",
    "print(\"Mejores hiperparámetros encontrados:\", grid_search.best_params_)\n",
    "print(f\"RMSE del modelo Random Forest calibrado: {rmse_rf_tuned:.2f}\")\n",
    "print(f\"MAE del modelo Random Forest calibrado: {mae_rf_tuned:.2f}\")\n",
    " "
   ]
  },
  {
   "cell_type": "markdown",
   "metadata": {},
   "source": [
    "Tras aplicar una búsqueda exhaustiva de hiperparámetros (max_depth, max_features, y n_estimators), el mejor modelo encontrado fue:\n",
    "-max_depth: 10\n",
    "-max_features: 'sqrt'\n",
    "-n_estimators: 200\n",
    "Este modelo alcanzó un RMSE de 1564.25 y un MAE de 1147.20, lo cual representa la mejor precisión obtenida en todo el ejercicio, superando claramente los modelos anteriores, tanto manuales como automáticos.\n",
    "¿Cómo afectó cada hiperparámetro?\n",
    "max_depth = 10: Limitar la profundidad evitó que los árboles crecieran demasiado y se sobreajustaran. Esto favoreció la generalización, mejorando eldesempeño sobre el conjunto de prueba.\n",
    "max_features = 'sqrt': Esta configuración obliga a que cada división considere solo un subconjunto aleatorio de variables, lo que aumenta la diversidad entre árboles y reduce la varianza del ensamble.\n",
    "n_estimators = 200: Al aumentar el número de árboles, se logró una mayor estabilidad y reducción del error sin caer en sobreajuste, gracias a la regularización del resto de los hiperparámetros."
   ]
  },
  {
   "cell_type": "markdown",
   "metadata": {},
   "source": [
    "### Punto 6 - XGBoost con librería\n",
    "\n",
    "En la celda 6 implementen un modelo XGBoost de regresión con la librería sklearn y comenten sobre el desempeño del modelo."
   ]
  },
  {
   "cell_type": "code",
   "execution_count": 68,
   "metadata": {},
   "outputs": [
    {
     "name": "stdout",
     "output_type": "stream",
     "text": [
      "RMSE del modelo XGBoost: 1552.73\n",
      "MAE del modelo XGBoost: 1140.10\n"
     ]
    }
   ],
   "source": [
    "from xgboost import XGBRegressor\n",
    " \n",
    "# Modelo XGBoost básico\n",
    "xgb_model = XGBRegressor(\n",
    "    n_estimators=100,\n",
    "    learning_rate=0.1,\n",
    "    max_depth=6,\n",
    "    subsample=0.8,\n",
    "    colsample_bytree=0.8,\n",
    "    random_state=42,\n",
    "    n_jobs=-1\n",
    ")\n",
    " \n",
    "# Entrenar el modelo\n",
    "xgb_model.fit(X_train, y_train)\n",
    " \n",
    "# Predicciones\n",
    "y_pred_xgb = xgb_model.predict(X_test)\n",
    " \n",
    "# Evaluación\n",
    "rmse_xgb = np.sqrt(mean_squared_error(y_test, y_pred_xgb))\n",
    "mae_xgb = mean_absolute_error(y_test, y_pred_xgb)\n",
    " \n",
    "print(f\"RMSE del modelo XGBoost: {rmse_xgb:.2f}\")\n",
    "print(f\"MAE del modelo XGBoost: {mae_xgb:.2f}\")"
   ]
  },
  {
   "cell_type": "markdown",
   "metadata": {},
   "source": [
    "El modelo de regresión implementado con XGBoost alcanzó un RMSE de 1552.73 y un MAE de 1140.10, logrando el mejor desempeño general entre todos los modelos evaluados.\n",
    " \n",
    "XGBoost utiliza el principio de boosting, donde los árboles se construyen secuencialmente, y cada uno intenta corregir los errores del anterior. Además, incorpora técnicas avanzadas de regularización y permite un control muy fino sobre el aprendizaje, lo que favorece una mayor precisión y menor sobreajuste comparado con modelos como Random Forest."
   ]
  },
  {
   "cell_type": "markdown",
   "metadata": {},
   "source": [
    "### Punto 7 - Calibración de parámetros XGBoost\n",
    "\n",
    "En la celda 7 calibren los parámetros learning rate, gamma y colsample_bytree del modelo XGBoost para regresión, comenten sobre el desempeño del modelo y describan cómo cada parámetro afecta el desempeño del modelo."
   ]
  },
  {
   "cell_type": "code",
   "execution_count": 104,
   "metadata": {
    "scrolled": true
   },
   "outputs": [
    {
     "name": "stdout",
     "output_type": "stream",
     "text": [
      "Parámetros: learning_rate=0.1, gamma=5, colsample_bytree=1.0\n",
      "RMSE: 1555.68\n",
      "MAE: 1142.96\n",
      "\n"
     ]
    }
   ],
   "source": [
    "from itertools import product\n",
    "from xgboost import XGBRegressor\n",
    "from sklearn.metrics import mean_squared_error, mean_absolute_error\n",
    " \n",
    "# Listas de valores a explorar\n",
    "learning_rates = [0.01, 0.03, 0.05, 0.07, 0.1]\n",
    "gammas = [0, 1, 2, 3, 5]\n",
    "colsample_bytree_vals = [0.5, 0.6, 0.8, 1.0]\n",
    " \n",
    "# Probar todas las combinaciones posibles\n",
    "for lr, gamma, colsample in product(learning_rates, gammas, colsample_bytree_vals):\n",
    "    model = XGBRegressor(\n",
    "        n_estimators=100,\n",
    "        learning_rate=lr,\n",
    "        gamma=gamma,\n",
    "        colsample_bytree=colsample,\n",
    "        max_depth=6,\n",
    "        subsample=0.8,\n",
    "        random_state=42,\n",
    "        n_jobs=-1\n",
    "    )\n",
    "    \n",
    "model.fit(X_train, y_train)\n",
    "y_pred = model.predict(X_test)\n",
    "    \n",
    "rmse = np.sqrt(mean_squared_error(y_test, y_pred))\n",
    "mae = mean_absolute_error(y_test, y_pred)\n",
    "    \n",
    "print(f\"Parámetros: learning_rate={lr}, gamma={gamma}, colsample_bytree={colsample}\")\n",
    "print(f\"RMSE: {rmse:.2f}\")\n",
    "print(f\"MAE: {mae:.2f}\\n\")"
   ]
  },
  {
   "cell_type": "markdown",
   "metadata": {},
   "source": [
    "### Punto 8 - Comparación y análisis de resultados\n",
    "En la celda 8 comparen los resultados obtenidos de los diferentes modelos (random forest y XGBoost) y comenten las ventajas del mejor modelo y las desventajas del modelo con el menor desempeño."
   ]
  },
  {
   "cell_type": "code",
   "execution_count": 112,
   "metadata": {
    "scrolled": true
   },
   "outputs": [
    {
     "data": {
      "image/png": "[encoded data removed]",
      "text/plain": [
       "<Figure size 800x500 with 1 Axes>"
      ]
     },
     "metadata": {},
     "output_type": "display_data"
    }
   ],
   "source": [
    "import matplotlib.pyplot as plt\n",
    "import pandas as pd\n",
    " \n",
    "# Datos de desempeño de modelos calibrados\n",
    "modelos = ['Random Forest (Calibrado)', 'XGBoost (Calibrado)']\n",
    "rmse = [1564.25, 1548.06]\n",
    "mae = [1147.20, 1132.69]\n",
    " \n",
    "# Crear DataFrame\n",
    "df_resultados = pd.DataFrame({\n",
    "    'Modelo': modelos,\n",
    "    'RMSE': rmse,\n",
    "    'MAE': mae\n",
    "})\n",
    " \n",
    "plt.figure(figsize=(8, 5))\n",
    "bars = plt.bar(df_resultados['Modelo'], df_resultados['MAE'], color=['steelblue', 'forestgreen'])\n",
    " \n",
    "plt.title('Comparación de MAE - Random Forest vs. XGBoost')\n",
    "plt.ylabel('MAE')\n",
    "plt.ylim(0, max(mae) + 200)\n",
    "plt.grid(axis='y', linestyle='--', alpha=0.7)\n",
    " \n",
    "# Añadir etiquetas de valor sobre cada barra\n",
    "for bar in bars:\n",
    "    yval = bar.get_height()\n",
    "    plt.text(bar.get_x() + bar.get_width() / 2.0, yval + 10, f'{yval:.2f}', ha='center', va='bottom')\n",
    " \n",
    "plt.tight_layout()\n",
    "plt.show()"
   ]
  },
  {
   "cell_type": "markdown",
   "metadata": {},
   "source": [
    "Comparación entre Random Forest y XGBoost\n",
    "1. Precisión y desempeño\n",
    "-El modelo Random Forest calibrado obtuvo un RMSE de 1564.25 y MAE de 1147.20.\n",
    "-El modelo XGBoost calibrado logró un RMSE de 1548.06 y MAE de 1132.69.\n",
    "Ambos modelos ofrecen un desempeño excelente, pero XGBoost superó ligeramente a Random Forest en ambas métricas, consolidándose como el mejor modelo del análisis.\n",
    "\n",
    "3. Ventajas de XGBoost sobre Random Forest\n",
    "-Aprendizaje secuencial (boosting): XGBoost construye árboles corrigiendo los errores del anterior, lo que le da mayor capacidad de adaptación y precisión.\n",
    "-Regularización incorporada (gamma, lambda, alpha): permite controlar el sobreajuste de forma más fina.\n",
    "-Velocidad y eficiencia computacional: está altamente optimizado para tareas de regresión con grandes volúmenes de datos.\n",
    " \n",
    "4. Ventajas de Random Forest\n",
    "-Más fácil de configurar: tiene menos hiperparámetros críticos.\n",
    "-Menor riesgo de sobreajuste extremo si se calibra correctamente.\n",
    "-Es más robusto ante ruido cuando no se afina demasiado.\n",
    " \n",
    "5. Desventajas de cada uno\n",
    "-Random Forest puede tener dificultades para captar relaciones muy complejas entre variables si no se calibra bien, y puede ser menos preciso en tareas donde los errores acumulativos son clave.\n",
    " \n",
    "-XGBoost, si no se calibra cuidadosamente, puede sobreajustar fácilmente por su alto poder expresivo y depender más del ajuste de parámetros como learning_rate y gamma.\n",
    " \n",
    "Conclusión\n",
    "Ambos modelos son poderosos, pero XGBoost calibrado ofrece una ventaja competitiva en precisión gracias a su arquitectura basada en boosting y capacidad de regularización. Sin embargo, Random Forest sigue siendo una excelente opción si se busca robustez, simplicidad y buen desempeño sin tanto esfuerzo de calibración."
   ]
  },
  {
   "cell_type": "code",
   "execution_count": null,
   "metadata": {},
   "outputs": [],
   "source": []
  }
 ],
 "metadata": {
  "kernelspec": {
   "display_name": "Python 3 (ipykernel)",
   "language": "python",
   "name": "python3"
  },
  "language_info": {
   "codemirror_mode": {
    "name": "ipython",
    "version": 3
   },
   "file_extension": ".py",
   "mimetype": "text/x-python",
   "name": "python",
   "nbconvert_exporter": "python",
   "pygments_lexer": "ipython3",
   "version": "3.12.7"
  }
 },
 "nbformat": 4,
 "nbformat_minor": 4
}
