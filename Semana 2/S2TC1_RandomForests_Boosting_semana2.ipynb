{
 "cells": [
  {
   "cell_type": "markdown",
   "metadata": {
    "id": "Sbn2ozJNlNgD"
   },
   "source": [
    "![image info](https://raw.githubusercontent.com/albahnsen/MIAD_ML_and_NLP/main/images/banner_1.png)"
   ]
  },
  {
   "cell_type": "markdown",
   "metadata": {
    "id": "cwHTizdwlNgE"
   },
   "source": [
    "# Taller: Construcción e implementación de modelos Bagging, Random Forest y XGBoost\n",
    "\n",
    "En este taller podrán poner en práctica sus conocimientos sobre la construcción e implementación de modelos de Bagging, Random Forest y XGBoost. El taller está constituido por 8 puntos, en los cuales deberan seguir las intrucciones de cada numeral para su desarrollo."
   ]
  },
  {
   "cell_type": "markdown",
   "metadata": {
    "id": "pPRuerh1lNgG"
   },
   "source": [
    "## Datos predicción precio de automóviles\n",
    "\n",
    "En este taller se usará el conjunto de datos de Car Listings de Kaggle donde cada observación representa el precio de un automóvil teniendo en cuenta distintas variables como año, marca, modelo, entre otras. El objetivo es predecir el precio del automóvil. Para más detalles puede visitar el siguiente enlace: [datos](https://www.kaggle.com/jpayne/852k-used-car-listings)."
   ]
  },
  {
   "cell_type": "code",
   "execution_count": 1,
   "metadata": {
    "id": "gM6Yyx5blNgG"
   },
   "outputs": [],
   "source": [
    "import warnings\n",
    "warnings.filterwarnings('ignore')"
   ]
  },
  {
   "cell_type": "code",
   "execution_count": 2,
   "metadata": {
    "colab": {
     "base_uri": "https://localhost:8080/",
     "height": 226
    },
    "executionInfo": {
     "elapsed": 4054,
     "status": "ok",
     "timestamp": 1743878116349,
     "user": {
      "displayName": "Edna Mora",
      "userId": "11417440768872342315"
     },
     "user_tz": 300
    },
    "id": "tX_pKkPKlNgI",
    "outputId": "e46c3677-51f0-4b84-ea29-5fe49590688f"
   },
   "outputs": [
    {
     "data": {
      "text/html": [
       "<div>\n",
       "<style scoped>\n",
       "    .dataframe tbody tr th:only-of-type {\n",
       "        vertical-align: middle;\n",
       "    }\n",
       "\n",
       "    .dataframe tbody tr th {\n",
       "        vertical-align: top;\n",
       "    }\n",
       "\n",
       "    .dataframe thead th {\n",
       "        text-align: right;\n",
       "    }\n",
       "</style>\n",
       "<table border=\"1\" class=\"dataframe\">\n",
       "  <thead>\n",
       "    <tr style=\"text-align: right;\">\n",
       "      <th></th>\n",
       "      <th>Price</th>\n",
       "      <th>Year</th>\n",
       "      <th>Mileage</th>\n",
       "      <th>M_Camry</th>\n",
       "      <th>M_Camry4dr</th>\n",
       "      <th>M_CamryBase</th>\n",
       "      <th>M_CamryL</th>\n",
       "      <th>M_CamryLE</th>\n",
       "      <th>M_CamrySE</th>\n",
       "      <th>M_CamryXLE</th>\n",
       "    </tr>\n",
       "  </thead>\n",
       "  <tbody>\n",
       "    <tr>\n",
       "      <th>7</th>\n",
       "      <td>21995</td>\n",
       "      <td>2014</td>\n",
       "      <td>6480</td>\n",
       "      <td>False</td>\n",
       "      <td>False</td>\n",
       "      <td>False</td>\n",
       "      <td>True</td>\n",
       "      <td>False</td>\n",
       "      <td>False</td>\n",
       "      <td>False</td>\n",
       "    </tr>\n",
       "    <tr>\n",
       "      <th>11</th>\n",
       "      <td>13995</td>\n",
       "      <td>2014</td>\n",
       "      <td>39972</td>\n",
       "      <td>False</td>\n",
       "      <td>False</td>\n",
       "      <td>False</td>\n",
       "      <td>False</td>\n",
       "      <td>True</td>\n",
       "      <td>False</td>\n",
       "      <td>False</td>\n",
       "    </tr>\n",
       "    <tr>\n",
       "      <th>167</th>\n",
       "      <td>17941</td>\n",
       "      <td>2016</td>\n",
       "      <td>18989</td>\n",
       "      <td>False</td>\n",
       "      <td>False</td>\n",
       "      <td>False</td>\n",
       "      <td>False</td>\n",
       "      <td>False</td>\n",
       "      <td>True</td>\n",
       "      <td>False</td>\n",
       "    </tr>\n",
       "    <tr>\n",
       "      <th>225</th>\n",
       "      <td>12493</td>\n",
       "      <td>2014</td>\n",
       "      <td>51330</td>\n",
       "      <td>False</td>\n",
       "      <td>False</td>\n",
       "      <td>False</td>\n",
       "      <td>True</td>\n",
       "      <td>False</td>\n",
       "      <td>False</td>\n",
       "      <td>False</td>\n",
       "    </tr>\n",
       "    <tr>\n",
       "      <th>270</th>\n",
       "      <td>7994</td>\n",
       "      <td>2007</td>\n",
       "      <td>116065</td>\n",
       "      <td>False</td>\n",
       "      <td>True</td>\n",
       "      <td>False</td>\n",
       "      <td>False</td>\n",
       "      <td>False</td>\n",
       "      <td>False</td>\n",
       "      <td>False</td>\n",
       "    </tr>\n",
       "  </tbody>\n",
       "</table>\n",
       "</div>"
      ],
      "text/plain": [
       "     Price  Year  Mileage  M_Camry  M_Camry4dr  M_CamryBase  M_CamryL  \\\n",
       "7    21995  2014     6480    False       False        False      True   \n",
       "11   13995  2014    39972    False       False        False     False   \n",
       "167  17941  2016    18989    False       False        False     False   \n",
       "225  12493  2014    51330    False       False        False      True   \n",
       "270   7994  2007   116065    False        True        False     False   \n",
       "\n",
       "     M_CamryLE  M_CamrySE  M_CamryXLE  \n",
       "7        False      False       False  \n",
       "11        True      False       False  \n",
       "167      False       True       False  \n",
       "225      False      False       False  \n",
       "270      False      False       False  "
      ]
     },
     "execution_count": 2,
     "metadata": {},
     "output_type": "execute_result"
    }
   ],
   "source": [
    "# Importación de librerías\n",
    "%matplotlib inline\n",
    "import pandas as pd\n",
    "\n",
    "# Lectura de la información de archivo .csv\n",
    "data = pd.read_csv('https://raw.githubusercontent.com/albahnsen/MIAD_ML_and_NLP/main/datasets/dataTrain_carListings.zip')\n",
    "\n",
    "# Preprocesamiento de datos para el taller\n",
    "data = data.loc[data['Model'].str.contains('Camry')].drop(['Make', 'State'], axis=1)\n",
    "data = data.join(pd.get_dummies(data['Model'], prefix='M'))\n",
    "data = data.drop(['Model'], axis=1)\n",
    "\n",
    "# Visualización dataset\n",
    "data.head()"
   ]
  },
  {
   "cell_type": "code",
   "execution_count": 4,
   "metadata": {
    "colab": {
     "base_uri": "https://localhost:8080/"
    },
    "executionInfo": {
     "elapsed": 45,
     "status": "ok",
     "timestamp": 1743878116397,
     "user": {
      "displayName": "Edna Mora",
      "userId": "11417440768872342315"
     },
     "user_tz": 300
    },
    "id": "EqmhnhtHlNgJ",
    "outputId": "e5bb5274-7d86-4e69-bae9-388078d5a526"
   },
   "outputs": [
    {
     "name": "stdout",
     "output_type": "stream",
     "text": [
      "<class 'pandas.core.frame.DataFrame'>\n",
      "Index: 10495 entries, 7 to 399976\n",
      "Data columns (total 10 columns):\n",
      " #   Column       Non-Null Count  Dtype\n",
      "---  ------       --------------  -----\n",
      " 0   Price        10495 non-null  int64\n",
      " 1   Year         10495 non-null  int64\n",
      " 2   Mileage      10495 non-null  int64\n",
      " 3   M_Camry      10495 non-null  bool \n",
      " 4   M_Camry4dr   10495 non-null  bool \n",
      " 5   M_CamryBase  10495 non-null  bool \n",
      " 6   M_CamryL     10495 non-null  bool \n",
      " 7   M_CamryLE    10495 non-null  bool \n",
      " 8   M_CamrySE    10495 non-null  bool \n",
      " 9   M_CamryXLE   10495 non-null  bool \n",
      "dtypes: bool(7), int64(3)\n",
      "memory usage: 399.7 KB\n"
     ]
    }
   ],
   "source": [
    "data.info()\n"
   ]
  },
  {
   "cell_type": "code",
   "execution_count": 5,
   "metadata": {
    "id": "hkd4xcHulNgJ"
   },
   "outputs": [],
   "source": [
    "# Separación de variables predictoras (X) y variable de interés (y)\n",
    "y = data['Price']\n",
    "X = data.drop(['Price'], axis=1)"
   ]
  },
  {
   "cell_type": "code",
   "execution_count": 6,
   "metadata": {
    "id": "8YvFj8jllNgK"
   },
   "outputs": [],
   "source": [
    "# Separación de datos en set de entrenamiento y test\n",
    "from sklearn.model_selection import train_test_split\n",
    "X_train, X_test, y_train, y_test = train_test_split(X, y, test_size=0.33, random_state=42)"
   ]
  },
  {
   "cell_type": "markdown",
   "metadata": {
    "id": "PSQwWc7hlNgL"
   },
   "source": [
    "### Punto 1 - Árbol de decisión manual\n",
    "\n",
    "En la celda 1 creen un árbol de decisión **manualmente**  que considere los set de entrenamiento y test definidos anteriormente y presenten el RMSE y MAE del modelo en el set de test."
   ]
  },
  {
   "cell_type": "code",
   "execution_count": 7,
   "metadata": {
    "colab": {
     "base_uri": "https://localhost:8080/"
    },
    "executionInfo": {
     "elapsed": 295,
     "status": "ok",
     "timestamp": 1743878636287,
     "user": {
      "displayName": "Edna Mora",
      "userId": "11417440768872342315"
     },
     "user_tz": 300
    },
    "id": "vCYIkSJ7lNgL",
    "outputId": "c1b0b6a8-9610-4205-ae71-3729b4ffaa0e"
   },
   "outputs": [
    {
     "name": "stdout",
     "output_type": "stream",
     "text": [
      "RMSE: 1935.19\n",
      "MAE: 1461.35\n"
     ]
    }
   ],
   "source": [
    "# Celda 1\n",
    "import numpy as np\n",
    "import numpy as np\n",
    "\n",
    "# Función para calcular ganancia por reducción de varianza\n",
    "def variance_gain(X_col, y, split):\n",
    "    filter_l = X_col < split\n",
    "    y_l = y.loc[filter_l]\n",
    "    y_r = y.loc[~filter_l]\n",
    "\n",
    "    n_l = y_l.shape[0]\n",
    "    n_r = y_r.shape[0]\n",
    "\n",
    "    if n_l == 0 or n_r == 0:\n",
    "        return 0\n",
    "\n",
    "    var_total = y.var()\n",
    "    var_l = y_l.var()\n",
    "    var_r = y_r.var()\n",
    "\n",
    "    gain = var_total - (n_l / (n_l + n_r) * var_l + n_r / (n_l + n_r) * var_r)\n",
    "\n",
    "    return gain\n",
    "\n",
    "# Función para encontrar el mejor split\n",
    "def best_split_reg(X, y, num_pct=10):\n",
    "    best_split = [0, 0, -np.inf]  # j, split, gain\n",
    "\n",
    "    for j in range(X.shape[1]):\n",
    "        col = X.iloc[:, j]\n",
    "\n",
    "        # Ignorar columnas binarias o booleanas\n",
    "        if col.nunique() <= 2:\n",
    "            continue\n",
    "\n",
    "        splits = np.percentile(col, np.linspace(0, 100, num_pct + 2)[1:-1])\n",
    "        splits = np.unique(splits)\n",
    "\n",
    "        for split in splits:\n",
    "            gain = variance_gain(col, y, split)\n",
    "\n",
    "            if gain > best_split[2]:\n",
    "                best_split = [j, split, gain]\n",
    "\n",
    "    return best_split\n",
    "\n",
    "# Función para hacer crecer el árbol manualmente (regresión)\n",
    "def tree_grow_reg(X, y, level=0, min_gain=0.00001, max_depth=3, num_pct=10):\n",
    "    if X.shape[0] == 1:\n",
    "        return dict(y_pred=y.iloc[0], level=level, split=-1, n_samples=1, gain=0)\n",
    "\n",
    "    j, split, gain = best_split_reg(X, y, num_pct)\n",
    "    y_pred = y.mean()\n",
    "\n",
    "    tree = dict(y_pred=y_pred, level=level, split=-1, n_samples=X.shape[0], gain=gain)\n",
    "\n",
    "    # Criterios de parada\n",
    "    if gain < min_gain:\n",
    "        return tree\n",
    "    if max_depth is not None and level >= max_depth:\n",
    "        return tree\n",
    "\n",
    "    # Crear divisiones\n",
    "    filter_l = X.iloc[:, j] < split\n",
    "    X_l, y_l = X.loc[filter_l], y.loc[filter_l]\n",
    "    X_r, y_r = X.loc[~filter_l], y.loc[~filter_l]\n",
    "\n",
    "    tree['split'] = [j, split]\n",
    "    tree['sl'] = tree_grow_reg(X_l, y_l, level + 1, min_gain, max_depth, num_pct)\n",
    "    tree['sr'] = tree_grow_reg(X_r, y_r, level + 1, min_gain, max_depth, num_pct)\n",
    "\n",
    "    return tree\n",
    "\n",
    "# Función para predecir\n",
    "def tree_predict_reg(X, tree):\n",
    "    predicted = np.zeros(X.shape[0])\n",
    "\n",
    "    if tree['split'] == -1:\n",
    "        predicted[:] = tree['y_pred']\n",
    "    else:\n",
    "        j, split = tree['split']\n",
    "        filter_l = (X.iloc[:, j] < split)\n",
    "        X_l = X.loc[filter_l]\n",
    "        X_r = X.loc[~filter_l]\n",
    "\n",
    "        if X_l.shape[0] > 0:\n",
    "            predicted[filter_l] = tree_predict_reg(X_l, tree['sl'])\n",
    "        if X_r.shape[0] > 0:\n",
    "            predicted[~filter_l] = tree_predict_reg(X_r, tree['sr'])\n",
    "\n",
    "    return predicted\n",
    "tree = tree_grow_reg(X_train, y_train, max_depth=3)\n",
    "y_pred = tree_predict_reg(X_test, tree)\n",
    "\n",
    "from sklearn.metrics import mean_squared_error, mean_absolute_error\n",
    "\n",
    "rmse = np.sqrt(mean_squared_error(y_test, y_pred))\n",
    "mae = mean_absolute_error(y_test, y_pred)\n",
    "\n",
    "print(f\"RMSE: {rmse:.2f}\")\n",
    "print(f\"MAE: {mae:.2f}\")\n",
    "\n"
   ]
  },
  {
   "cell_type": "code",
   "execution_count": 8,
   "metadata": {
    "colab": {
     "base_uri": "https://localhost:8080/"
    },
    "executionInfo": {
     "elapsed": 16,
     "status": "ok",
     "timestamp": 1743867480985,
     "user": {
      "displayName": "Edna Mora",
      "userId": "11417440768872342315"
     },
     "user_tz": 300
    },
    "id": "gsBB8SY2lNgM",
    "outputId": "c6341f1f-11ec-4b91-cc36-c41d2c84ffbf"
   },
   "outputs": [
    {
     "name": "stdout",
     "output_type": "stream",
     "text": [
      "Profundidad máxima del árbol: 3\n"
     ]
    }
   ],
   "source": [
    "def get_max_depth(tree):\n",
    "    if tree['split'] == -1:\n",
    "        return tree['level']\n",
    "    else:\n",
    "        return max(get_max_depth(tree['sl']), get_max_depth(tree['sr']))\n",
    "max_depth = get_max_depth(tree)\n",
    "print(f\"Profundidad máxima del árbol: {max_depth}\")\n"
   ]
  },
  {
   "cell_type": "markdown",
   "metadata": {
    "id": "BKscTm7FlNgN"
   },
   "source": [
    "El árbol de decisión manual entrenado para predecir el precio de los automóviles (Camry) con una profundidad máxima de 3, una ganancia minima de 0.00001 y con 10 particiones por variable mostró los siguientes resultados sobre el conjunto de prueba:\n",
    "\n",
    "MAE (Error absoluto medio): 1935.19\n",
    "Este valor representa, en promedio, cuánto se desvía la predicción del modelo respecto al precio real del auto. Un MAE bajo indica que el modelo tiene un buen desempeño al acercarse a los valores reales.\n",
    "\n",
    "RMSE (Raíz del error cuadrático medio): 1461.35\n",
    "Este error penaliza más fuertemente los errores grandes que el MAE, por lo que si hay valores atípicos mal predichos, este métrico será más alto.\n",
    "\n",
    "En general, el modelo presenta un desempeño razonable teniendo en cuenta que:\n",
    "\n",
    "Se utilizó un árbol de decisión muy sencillo (profundidad 3).\n",
    "\n",
    "No se aplicó poda ni ajustes más complejos.\n",
    "\n",
    "El árbol proporciona interpretabilidad (es fácil de explicar qué decisiones se tomaron en cada nodo), pero su capacidad predictiva podría mejorarse con un mayor número de niveles, técnicas como boosting o bagging, o modelos más complejos como regresión lineal o redes neuronales.\n",
    "\n",
    "Precisión\tEl error absoluto promedio está dentro de un rango aceptable dependiendo del rango de precios del dataset.\n",
    "Profundidad\tEl árbol tiene una profundidad máxima de 3, lo cual limita la capacidad del modelo para aprender patrones complejos. Esto se hizo probablemente para evitar sobreajuste.\n",
    "Generalización\tDado que el error no es excesivamente alto y el modelo es simple, parece tener una buena capacidad de generalización, aunque podría mejorar.\n"
   ]
  },
  {
   "cell_type": "markdown",
   "metadata": {
    "id": "pOVSYfcplNgN"
   },
   "source": [
    "### Punto 2 - Bagging manual\n",
    "\n",
    "En la celda 2 creen un modelo bagging **manualmente** con 10 árboles de regresión y comenten sobre el desempeño del modelo."
   ]
  },
  {
   "cell_type": "code",
   "execution_count": 9,
   "metadata": {
    "colab": {
     "base_uri": "https://localhost:8080/"
    },
    "executionInfo": {
     "elapsed": 627,
     "status": "ok",
     "timestamp": 1743867572021,
     "user": {
      "displayName": "Edna Mora",
      "userId": "11417440768872342315"
     },
     "user_tz": 300
    },
    "id": "asWzWRpzlNgO",
    "outputId": "99982192-36cc-4c0f-e4e1-b25b42ef8d4a"
   },
   "outputs": [
    {
     "name": "stdout",
     "output_type": "stream",
     "text": [
      " RMSE por árbol individual:\n",
      "Árbol 0: RMSE = 2141.61\n",
      "Árbol 1: RMSE = 2136.35\n",
      "Árbol 2: RMSE = 2122.72\n",
      "Árbol 3: RMSE = 2087.28\n",
      "Árbol 4: RMSE = 2168.52\n",
      "Árbol 5: RMSE = 2113.88\n",
      "Árbol 6: RMSE = 2127.93\n",
      "Árbol 7: RMSE = 2184.41\n",
      "Árbol 8: RMSE = 2138.11\n",
      "Árbol 9: RMSE = 2132.10\n",
      "\n",
      " Desempeño del modelo Bagging (10 árboles):\n",
      " RMSE = 1796.44\n",
      " MAE = 1340.02\n"
     ]
    }
   ],
   "source": [
    "# Celda 2import matplotlib.pyplot as plt\n",
    "import numpy as np\n",
    "from sklearn.tree import DecisionTreeRegressor\n",
    "from sklearn.metrics import mean_squared_error, mean_absolute_error\n",
    "import pandas as pd\n",
    "\n",
    "# Número de árboles\n",
    "n_B = 10\n",
    "\n",
    "# Crear muestras bootstrap\n",
    "np.random.seed(123)\n",
    "samples = [np.random.choice(a=X_train.index, size=len(X_train), replace=True) for _ in range(n_B)]\n",
    "\n",
    "# Crear modelo base\n",
    "treereg = DecisionTreeRegressor(max_depth=None, random_state=123)\n",
    "\n",
    "# DataFrame para guardar predicciones de cada árbol\n",
    "y_pred = pd.DataFrame(index=X_test.index, columns=range(n_B))\n",
    "\n",
    "# Entrenamiento y predicción para cada muestra bootstrap\n",
    "for i, sample in enumerate(samples):\n",
    "    X_sample = X_train.loc[sample]\n",
    "    y_sample = y_train.loc[sample]\n",
    "    treereg.fit(X_sample, y_sample)\n",
    "    y_pred.iloc[:, i] = treereg.predict(X_test)\n",
    "\n",
    "# Desempeño individual de cada árbol\n",
    "print(\" RMSE por árbol individual:\")\n",
    "for i in range(n_B):\n",
    "    rmse_i = np.sqrt(mean_squared_error(y_test, y_pred.iloc[:, i]))\n",
    "    print(f'Árbol {i}: RMSE = {rmse_i:.2f}')\n",
    "\n",
    "# Promedio de predicciones\n",
    "y_pred_mean = y_pred.mean(axis=1)\n",
    "\n",
    "# Evaluación del modelo Bagging (con promedio)\n",
    "rmse_bagging = np.sqrt(mean_squared_error(y_test, y_pred_mean))\n",
    "mae_bagging = mean_absolute_error(y_test, y_pred_mean)\n",
    "\n",
    "print(f\"\\n Desempeño del modelo Bagging (10 árboles):\")\n",
    "print(f\" RMSE = {rmse_bagging:.2f}\")\n",
    "print(f\" MAE = {mae_bagging:.2f}\")\n"
   ]
  },
  {
   "cell_type": "markdown",
   "metadata": {
    "id": "2UNG6r_mlNgO"
   },
   "source": [
    "Este modelo de bagging crea 10 árboles de decisión independientes entrenados en diferentes muestras bootstrap. Luego promedia sus predicciones para reducir la varianza del modelo y mejorar la generalización.\n",
    "•\tEn general, cada árbol tiene un desempeño variable debido al muestreo aleatorio.\n",
    "•\tAl promediar las predicciones, el error del modelo disminuye, lo cual es una característica esperada del bagging.\n",
    "•\tComo se puede observar el RMSE fue infrior al arbo manual 1796 vs 1935 del arbol\n"
   ]
  },
  {
   "cell_type": "markdown",
   "metadata": {
    "id": "4NqDF2ZilNgP"
   },
   "source": [
    "### Punto 3 - Bagging con librería\n",
    "\n",
    "En la celda 3, con la librería sklearn, entrenen un modelo bagging con 10 árboles de regresión y el parámetro `max_features` igual a `log(n_features)` y comenten sobre el desempeño del modelo."
   ]
  },
  {
   "cell_type": "code",
   "execution_count": 10,
   "metadata": {
    "colab": {
     "base_uri": "https://localhost:8080/"
    },
    "executionInfo": {
     "elapsed": 99,
     "status": "ok",
     "timestamp": 1743867604749,
     "user": {
      "displayName": "Edna Mora",
      "userId": "11417440768872342315"
     },
     "user_tz": 300
    },
    "id": "ptD72KS8lNgP",
    "outputId": "365456c7-f64c-4540-bba9-33b3e23e4cec"
   },
   "outputs": [
    {
     "name": "stdout",
     "output_type": "stream",
     "text": [
      "RMSE del modelo Bagging (sklearn): 2768.52\n",
      "MAE del modelo Bagging (sklearn): 2160.78\n"
     ]
    }
   ],
   "source": [
    "# Celda 3\n",
    "from sklearn.ensemble import BaggingRegressor\n",
    "from sklearn.tree import DecisionTreeRegressor\n",
    "from sklearn.metrics import mean_squared_error, mean_absolute_error\n",
    "import matplotlib.pyplot as plt\n",
    "import numpy as np\n",
    "import math\n",
    "\n",
    "# -------------------------------\n",
    "# Modelo Bagging con sklearn\n",
    "# -------------------------------\n",
    "\n",
    "# Calcular log(n_features)\n",
    "n_features = X_train.shape[1]\n",
    "max_features = int(np.log(n_features))\n",
    "\n",
    "# Definir modelo Bagging\n",
    "\n",
    "bagging_model = BaggingRegressor(\n",
    "    estimator=DecisionTreeRegressor(max_depth=5),\n",
    "    n_estimators=10,\n",
    "    max_features=max_features,\n",
    "    random_state=42\n",
    ")\n",
    "\n",
    "# Entrenar modelo\n",
    "bagging_model.fit(X_train, y_train)\n",
    "\n",
    "# Predicciones\n",
    "y_pred_sklearn = bagging_model.predict(X_test)\n",
    "\n",
    "# -------------------------------\n",
    "# Métricas de desempeño\n",
    "# -------------------------------\n",
    "rmseBL = np.sqrt(mean_squared_error(y_test, y_pred_sklearn))\n",
    "maeBL = mean_absolute_error(y_test, y_pred_sklearn)\n",
    "\n",
    "print(f\"RMSE del modelo Bagging (sklearn): {rmseBL:.2f}\")\n",
    "print(f\"MAE del modelo Bagging (sklearn): {maeBL:.2f}\")\n",
    "\n",
    "\n"
   ]
  },
  {
   "cell_type": "markdown",
   "metadata": {
    "id": "yaoEjuZclNgQ"
   },
   "source": [
    "El modelo de Bagging implementado con la librería sklearn obtuvo un RMSE de 2768.35 y un MAE de 2160.76 en el conjunto de prueba. Este modelo usó 10 árboles de regresión con max_features = log(n_features), lo que limitó la cantidad de variables que cada árbol podía ver al momento de entrenarse. Comparado con los otros enfoques: El bagging manual superó al modelo de sklearn, mostrando un RMSE mucho menor (1796.44 vs 2768.52). Esto se puede explicar por el parámetro max_features = log(n_features), que reduce la diversidad de información disponible para cada árbol. Aunque esta configuración puede ser útil para reducir el sobreajuste en algunos casos, aquí probablemente limitó la capacidad predictiva de los árboles dentro del ensamble.En resumen: -El modelo de sklearn muestra mejoras sobre el árbol manual. -Su rendimiento fue inferior al bagging manual posiblemente por una configuración del parámetro max_features."
   ]
  },
  {
   "cell_type": "markdown",
   "metadata": {
    "id": "UTC_VZHMlNgQ"
   },
   "source": [
    "### Punto 4 - Random forest con librería\n",
    "\n",
    "En la celda 4, usando la librería sklearn entrenen un modelo de Randon Forest para regresión  y comenten sobre el desempeño del modelo."
   ]
  },
  {
   "cell_type": "code",
   "execution_count": 11,
   "metadata": {
    "colab": {
     "base_uri": "https://localhost:8080/"
    },
    "executionInfo": {
     "elapsed": 615,
     "status": "ok",
     "timestamp": 1743867766073,
     "user": {
      "displayName": "Edna Mora",
      "userId": "11417440768872342315"
     },
     "user_tz": 300
    },
    "id": "Z8ueCI7wlNgQ",
    "outputId": "cdcaebe0-f8f5-4a76-bfed-53453c9b3d2d"
   },
   "outputs": [
    {
     "name": "stdout",
     "output_type": "stream",
     "text": [
      "RMSE del modelo Random Forest: 1618.40\n",
      "MAE del modelo Random Forest: 1200.39\n"
     ]
    }
   ],
   "source": [
    "# Celda 4\n",
    "from sklearn.ensemble import RandomForestRegressor\n",
    "from sklearn.metrics import mean_squared_error, mean_absolute_error\n",
    "import matplotlib.pyplot as plt\n",
    "import numpy as np\n",
    "\n",
    "# -------------------------------\n",
    "# Entrenar Random Forest Regressor\n",
    "# -------------------------------\n",
    "rf_model = RandomForestRegressor(\n",
    "    n_estimators=100,  # Número de árboles\n",
    "    max_depth=5,  # Profundidad máxima del árbol\n",
    "    random_state=42\n",
    ")\n",
    "\n",
    "rf_model.fit(X_train, y_train)\n",
    "y_pred_rf = rf_model.predict(X_test)\n",
    "\n",
    "# -------------------------------\n",
    "# Métricas de desempeño\n",
    "# -------------------------------\n",
    "rmse_rf = np.sqrt(mean_squared_error(y_test, y_pred_rf))\n",
    "mae_rf = mean_absolute_error(y_test, y_pred_rf)\n",
    "\n",
    "print(f\"RMSE del modelo Random Forest: {rmse_rf:.2f}\")\n",
    "print(f\"MAE del modelo Random Forest: {mae_rf:.2f}\")\n",
    "\n"
   ]
  },
  {
   "cell_type": "markdown",
   "metadata": {
    "id": "UoM_8F5flNgR"
   },
   "source": [
    "El modelo de Random Forest obtuvo un RMSE de 1618.40 y un MAE de 1200.39 en el conjunto de prueba, logrando el mejor RMSE de todos los modelos evaluados hasta ahora. Random Forest combina bagging (ensamble de árboles sobre muestras bootstrap) con una aleatorización adicional: en cada división del árbol, se considera solo un subconjunto aleatorio de variables. Esto: -Aumenta la diversidad entre los árboles, -Reduce el sobreajuste, -Y mejora la generalización del modelo."
   ]
  },
  {
   "cell_type": "markdown",
   "metadata": {
    "id": "rycK5IWUlNgR"
   },
   "source": [
    "### Punto 5 - Calibración de parámetros Random forest\n",
    "\n",
    "En la celda 5, calibren los parámetros max_depth, max_features y n_estimators del modelo de Randon Forest para regresión, comenten sobre el desempeño del modelo y describan cómo cada parámetro afecta el desempeño del modelo."
   ]
  },
  {
   "cell_type": "code",
   "execution_count": 13,
   "metadata": {
    "colab": {
     "base_uri": "https://localhost:8080/"
    },
    "executionInfo": {
     "elapsed": 99442,
     "status": "ok",
     "timestamp": 1743868103239,
     "user": {
      "displayName": "Edna Mora",
      "userId": "11417440768872342315"
     },
     "user_tz": 300
    },
    "id": "WumQw4MglNgR",
    "outputId": "7fad14b9-c999-4732-bcbe-3967d8971b81"
   },
   "outputs": [
    {
     "name": "stdout",
     "output_type": "stream",
     "text": [
      "Fitting 5 folds for each of 36 candidates, totalling 180 fits\n",
      "Mejores hiperparámetros: {'max_depth': 10, 'max_features': 'sqrt', 'n_estimators': 200}\n",
      "RMSE del modelo optimizado: 1564.25\n",
      "MAE del modelo optimizado: 1147.20\n"
     ]
    }
   ],
   "source": [
    "# Celda 5\n",
    "from sklearn.model_selection import GridSearchCV\n",
    "from sklearn.ensemble import RandomForestRegressor\n",
    "from sklearn.metrics import mean_squared_error, mean_absolute_error\n",
    "import matplotlib.pyplot as plt\n",
    "import numpy as np\n",
    "\n",
    "# -------------------------------\n",
    "# Definir los valores a probar en cada hiperparámetro\n",
    "# -------------------------------\n",
    "param_grid = {\n",
    "    'n_estimators': [50, 100, 200],        # Cantidad de árboles\n",
    "    'max_depth': [3, 5, 10, None],         # Profundidad máxima del árbol\n",
    "    'max_features': ['sqrt', 'log2', None] # Cantidad de features por árbol\n",
    "}\n",
    "\n",
    "# Modelo base\n",
    "rf_base = RandomForestRegressor(random_state=42)\n",
    "\n",
    "# Búsqueda de hiperparámetros con validación cruzada\n",
    "grid_search = GridSearchCV(\n",
    "    estimator=rf_base,\n",
    "    param_grid=param_grid,\n",
    "    cv=5,                  # 5-fold cross-validation\n",
    "    scoring='neg_mean_squared_error',\n",
    "    n_jobs=-1,\n",
    "    verbose=1\n",
    ")\n",
    "\n",
    "# Entrenar búsqueda\n",
    "grid_search.fit(X_train, y_train)\n",
    "\n",
    "# Obtener mejores hiperparámetros\n",
    "best_params = grid_search.best_params_\n",
    "print(f\"Mejores hiperparámetros: {best_params}\")\n",
    "\n",
    "# Entrenar modelo con los mejores parámetros encontrados\n",
    "rf_optimized = RandomForestRegressor(\n",
    "    n_estimators=best_params['n_estimators'],\n",
    "    max_depth=best_params['max_depth'],\n",
    "    max_features=best_params['max_features'],\n",
    "    random_state=42\n",
    ")\n",
    "\n",
    "rf_optimized.fit(X_train, y_train)\n",
    "y_pred_rf_opt = rf_optimized.predict(X_test)\n",
    "\n",
    "# -------------------------------\n",
    "# Métricas de desempeño\n",
    "# -------------------------------\n",
    "rmse_rf_opt = np.sqrt(mean_squared_error(y_test, y_pred_rf_opt))\n",
    "mae_rf_opt = mean_absolute_error(y_test, y_pred_rf_opt)\n",
    "\n",
    "print(f\"RMSE del modelo optimizado: {rmse_rf_opt:.2f}\")\n",
    "print(f\"MAE del modelo optimizado: {mae_rf_opt:.2f}\")\n",
    "\n"
   ]
  },
  {
   "cell_type": "markdown",
   "metadata": {
    "id": "ug5rKZZklNgS"
   },
   "source": [
    "Tras aplicar una búsqueda exhaustiva de hiperparámetros (max_depth, max_features, y n_estimators), el mejor modelo encontrado fue: -max_depth: 10 -max_features: 'sqrt' -n_estimators: 200 Este modelo alcanzó un RMSE de 1564.25 y un MAE de 1147.20, lo cual representa la mejor precisión obtenida en todo el ejercicio, superando claramente los modelos anteriores, tanto manuales como automáticos. ¿Cómo afectó cada hiperparámetro? max_depth = 10: Limitar la profundidad evitó que los árboles crecieran demasiado y se sobreajustaran. Esto favoreció la generalización, mejorando eldesempeño sobre el conjunto de prueba. max_features = 'sqrt': Esta configuración obliga a que cada división considere solo un subconjunto aleatorio de variables, lo que aumenta la diversidad entre árboles y reduce la varianza del ensamble. n_estimators = 200: Al aumentar el número de árboles, se logró una mayor estabilidad y reducción del error sin caer en sobreajuste, gracias a la regularización del resto de los hiperparámetros."
   ]
  },
  {
   "cell_type": "markdown",
   "metadata": {
    "id": "bCKTApB5lNgS"
   },
   "source": [
    "### Punto 6 - XGBoost con librería\n",
    "\n",
    "En la celda 6 implementen un modelo XGBoost de regresión con la librería sklearn y comenten sobre el desempeño del modelo."
   ]
  },
  {
   "cell_type": "code",
   "execution_count": 14,
   "metadata": {
    "colab": {
     "base_uri": "https://localhost:8080/"
    },
    "executionInfo": {
     "elapsed": 86,
     "status": "ok",
     "timestamp": 1743867909897,
     "user": {
      "displayName": "Edna Mora",
      "userId": "11417440768872342315"
     },
     "user_tz": 300
    },
    "id": "vWT-W-KNlNgS",
    "outputId": "ff509291-9cd7-4203-d5c6-bb07fd94803a"
   },
   "outputs": [
    {
     "name": "stdout",
     "output_type": "stream",
     "text": [
      "RMSE del modelo XGBoost: 1547.19\n",
      "MAE del modelo XGBoost: 1131.11\n"
     ]
    }
   ],
   "source": [
    "# Celda 6\n",
    "from xgboost import XGBRegressor\n",
    "from sklearn.metrics import mean_squared_error, mean_absolute_error\n",
    "import matplotlib.pyplot as plt\n",
    "import numpy as np\n",
    "\n",
    "# -------------------------------\n",
    "# Entrenar XGBoost Regressor\n",
    "# -------------------------------\n",
    "xgb_model = XGBRegressor(\n",
    "    n_estimators=100,   # Número de árboles\n",
    "    max_depth=5,        # Profundidad máxima del árbol\n",
    "    learning_rate=0.1,  # Tasa de aprendizaje\n",
    "    random_state=42\n",
    ")\n",
    "\n",
    "xgb_model.fit(X_train, y_train)\n",
    "y_pred_xgb = xgb_model.predict(X_test)\n",
    "\n",
    "# -------------------------------\n",
    "# Métricas de desempeño\n",
    "# -------------------------------\n",
    "rmse_xgb = np.sqrt(mean_squared_error(y_test, y_pred_xgb))\n",
    "mae_xgb = mean_absolute_error(y_test, y_pred_xgb)\n",
    "\n",
    "print(f\"RMSE del modelo XGBoost: {rmse_xgb:.2f}\")\n",
    "print(f\"MAE del modelo XGBoost: {mae_xgb:.2f}\")\n",
    "\n",
    "\n"
   ]
  },
  {
   "cell_type": "markdown",
   "metadata": {
    "id": "r03k4DDzlNgT"
   },
   "source": [
    "El modelo de regresión implementado con XGBoost alcanzó un RMSE de 1547.19 y un MAE de 1131.11, logrando el mejor desempeño general entre todos los modelos evaluados.\n",
    "\n",
    "XGBoost utiliza el principio de boosting, donde los árboles se construyen secuencialmente, y cada uno intenta corregir los errores del anterior. Además, incorpora técnicas avanzadas de regularización y permite un control muy fino sobre el aprendizaje, lo que favorece una mayor precisión y menor sobreajuste comparado con modelos como Random Forest."
   ]
  },
  {
   "cell_type": "markdown",
   "metadata": {
    "id": "Kzj96lwOlNgT"
   },
   "source": [
    "### Punto 7 - Calibración de parámetros XGBoost\n",
    "\n",
    "En la celda 7 calibren los parámetros learning rate, gamma y colsample_bytree del modelo XGBoost para regresión, comenten sobre el desempeño del modelo y describan cómo cada parámetro afecta el desempeño del modelo."
   ]
  },
  {
   "cell_type": "code",
   "execution_count": 15,
   "metadata": {
    "colab": {
     "base_uri": "https://localhost:8080/"
    },
    "executionInfo": {
     "elapsed": 15766,
     "status": "ok",
     "timestamp": 1743867928530,
     "user": {
      "displayName": "Edna Mora",
      "userId": "11417440768872342315"
     },
     "user_tz": 300
    },
    "id": "grO532tKlNgT",
    "outputId": "d1f41b21-7611-40f8-9ac4-427b4a7d02cc"
   },
   "outputs": [
    {
     "name": "stdout",
     "output_type": "stream",
     "text": [
      "Fitting 5 folds for each of 48 candidates, totalling 240 fits\n",
      "Mejores hiperparámetros: {'colsample_bytree': 0.5, 'gamma': 0, 'learning_rate': 0.1}\n",
      "RMSE del modelo optimizado: 1540.68\n",
      "MAE del modelo optimizado: 1131.36\n"
     ]
    }
   ],
   "source": [
    "# Celda 7\n",
    "from sklearn.model_selection import GridSearchCV\n",
    "from xgboost import XGBRegressor\n",
    "from sklearn.metrics import mean_squared_error, mean_absolute_error\n",
    "import matplotlib.pyplot as plt\n",
    "import numpy as np\n",
    "\n",
    "# -------------------------------\n",
    "# Definir los valores a probar en cada hiperparámetro\n",
    "# -------------------------------\n",
    "param_grid = {\n",
    "    'learning_rate': [0.01, 0.1, 0.2, 0.3],  # Controla el tamaño del ajuste en cada iteración\n",
    "    'gamma': [0, 0.1, 0.5, 1],              # Regularización para evitar sobreajuste\n",
    "    'colsample_bytree': [0.5, 0.7, 1.0]     # Porcentaje de features utilizadas en cada árbol\n",
    "}\n",
    "\n",
    "# Modelo base\n",
    "xgb_base = XGBRegressor(n_estimators=100, max_depth=5, random_state=42)\n",
    "\n",
    "# Búsqueda de hiperparámetros con validación cruzada\n",
    "grid_search = GridSearchCV(\n",
    "    estimator=xgb_base,\n",
    "    param_grid=param_grid,\n",
    "    cv=5,                   # 5-fold cross-validation\n",
    "    scoring='neg_mean_squared_error',\n",
    "    n_jobs=-1,\n",
    "    verbose=1\n",
    ")\n",
    "\n",
    "# Entrenar búsqueda\n",
    "grid_search.fit(X_train, y_train)\n",
    "\n",
    "# Obtener mejores hiperparámetros\n",
    "best_params = grid_search.best_params_\n",
    "print(f\"Mejores hiperparámetros: {best_params}\")\n",
    "\n",
    "# Entrenar modelo con los mejores parámetros encontrados\n",
    "xgb_optimized = XGBRegressor(\n",
    "    n_estimators=100,\n",
    "    max_depth=5,\n",
    "    learning_rate=best_params['learning_rate'],\n",
    "    gamma=best_params['gamma'],\n",
    "    colsample_bytree=best_params['colsample_bytree'],\n",
    "    random_state=42\n",
    ")\n",
    "\n",
    "xgb_optimized.fit(X_train, y_train)\n",
    "y_pred_xgb_opt = xgb_optimized.predict(X_test)\n",
    "\n",
    "# -------------------------------\n",
    "# Métricas de desempeño\n",
    "# -------------------------------\n",
    "rmse_xgb_opt = np.sqrt(mean_squared_error(y_test, y_pred_xgb_opt))\n",
    "mae_xgb_opt = mean_absolute_error(y_test, y_pred_xgb_opt)\n",
    "\n",
    "print(f\"RMSE del modelo optimizado: {rmse_xgb_opt:.2f}\")\n",
    "print(f\"MAE del modelo optimizado: {mae_xgb_opt:.2f}\")\n",
    "\n",
    "\n"
   ]
  },
  {
   "cell_type": "markdown",
   "metadata": {
    "id": "FLcFVizelNgU"
   },
   "source": [
    "Comparado con XGBoost sin optimizar, este modelo TUVO levemente menor error (RMSE y MAE más bajos). RMSE 1540.68vs 1547.\n",
    "\n",
    "Impacto de cada hiperparámetro:\n",
    "\tLearning_rate: Controla cuánto cambia el modelo en cada iteración. Un valor alto puede hacer que el modelo aprenda rápido pero con menos estabilidad.\n",
    "\tgamma: Ayuda a reducir el sobreajuste penalizando particiones innecesarias en los árboles.\n",
    "\tcolsample_bytree: Controla el porcentaje de features utilizadas en cada árbol, reduciendo la correlación entre árboles y mejorando la generalización.\n"
   ]
  },
  {
   "cell_type": "markdown",
   "metadata": {
    "id": "jrePW-ndlNgU"
   },
   "source": [
    "### Punto 8 - Comparación y análisis de resultados\n",
    "En la celda 8 comparen los resultados obtenidos de los diferentes modelos (random forest y XGBoost) y comenten las ventajas del mejor modelo y las desventajas del modelo con el menor desempeño."
   ]
  },
  {
   "cell_type": "code",
   "execution_count": 16,
   "metadata": {
    "colab": {
     "base_uri": "https://localhost:8080/",
     "height": 464
    },
    "executionInfo": {
     "elapsed": 86,
     "status": "ok",
     "timestamp": 1743868103327,
     "user": {
      "displayName": "Edna Mora",
      "userId": "11417440768872342315"
     },
     "user_tz": 300
    },
    "id": "Wf_3NA9zlNgU",
    "outputId": "0496a44e-2000-4a90-97df-5eece307f93f"
   },
   "outputs": [
    {
     "data": {
      "image/png": "[encoded data removed]",
      "text/plain": [
       "<Figure size 640x480 with 1 Axes>"
      ]
     },
     "metadata": {},
     "output_type": "display_data"
    }
   ],
   "source": [
    "# Celda 8\n",
    "fig = plt.figure()\n",
    "ax = fig.add_axes([0,0,1,1])\n",
    "ax.set_title(\"Comparación RMSE de modelos\")\n",
    "ejeX = ['Random Forest', 'Randm Forest Opt', 'XGBoost', 'XGBoost Opt']\n",
    "ejeY = [rmse_rf, rmse_rf_opt, rmse_xgb, rmse_xgb_opt]\n",
    "ax.bar(ejeX,ejeY)\n",
    "def addlabels(x,y,plotP):\n",
    "    for i in range(len(x)):\n",
    "        plotP.text(i,y[i],y[i])\n",
    "addlabels(ejeX,ejeY,plt)\n",
    "plt.show()"
   ]
  },
  {
   "cell_type": "markdown",
   "metadata": {
    "id": "vi2lhX01lNgV"
   },
   "source": [
    "### Comparación entre Random Forest y XGBoost\n",
    "\n",
    "-**Precisión y desempeño**\n",
    "\n",
    "-El modelo Random Forest calibrado obtuvo un RMSE de 1564.25 y MAE de 1147.20. -El modelo XGBoost calibrado logró un RMSE de 1540.68 y MAE de 1131.36. Ambos modelos ofrecen un desempeño excelente, pero XGBoost superó ligeramente a Random Forest en ambas métricas, consolidándose como el mejor modelo del análisis.\n",
    "\n",
    "-Ventajas de XGBoost sobre Random Forest -Aprendizaje secuencial (boosting): XGBoost construye árboles corrigiendo los errores del anterior, lo que le da mayor capacidad de adaptación y precisión. -Regularización incorporada (gamma, lambda, alpha): permite controlar el sobreajuste de forma más fina. -Velocidad y eficiencia computacional: está altamente optimizado para tareas de regresión con grandes volúmenes de datos.\n",
    "\n",
    "-Ventajas de Random Forest -Más fácil de configurar: tiene menos hiperparámetros críticos. -Menor riesgo de sobreajuste extremo si se calibra correctamente. -Es más robusto ante ruido cuando no se afina demasiado.\n",
    "\n",
    "-Desventajas de cada uno -Random Forest puede tener dificultades para captar relaciones muy complejas entre variables si no se calibra bien, y puede ser menos preciso en tareas donde los errores acumulativos son clave.\n",
    "\n",
    "-XGBoost, si no se calibra cuidadosamente, puede sobreajustar fácilmente por su alto poder expresivo y depender más del ajuste de parámetros como learning_rate y gamma.\n",
    "\n",
    "---\n",
    "\n",
    "### Comparación y Conclusión:\n",
    "-Ambos modelos son poderosos, pero XGBoost calibrado ofrece una ventaja competitiva en precisión gracias a su arquitectura basada en boosting y capacidad de regularización. Sin embargo, Random Forest sigue siendo una excelente opción si se busca robustez, simplicidad y buen desempeño sin tanto esfuerzo de calibración.\n",
    "\n",
    "Tambien se pueden incluir algunas transformaciones adicionales de las variables para mejorar el desempeño de los modelos.\n"
   ]
  },
  {
   "cell_type": "code",
   "execution_count": null,
   "metadata": {
    "id": "iKPEAVJ_lNgV"
   },
   "outputs": [],
   "source": []
  },
  {
   "cell_type": "code",
   "execution_count": null,
   "metadata": {
    "id": "nRLVCJ3klNgV"
   },
   "outputs": [],
   "source": []
  }
 ],
 "metadata": {
  "colab": {
   "provenance": []
  },
  "kernelspec": {
   "display_name": "Python 3 (ipykernel)",
   "language": "python",
   "name": "python3"
  },
  "language_info": {
   "codemirror_mode": {
    "name": "ipython",
    "version": 3
   },
   "file_extension": ".py",
   "mimetype": "text/x-python",
   "name": "python",
   "nbconvert_exporter": "python",
   "pygments_lexer": "ipython3",
   "version": "3.12.9"
  }
 },
 "nbformat": 4,
 "nbformat_minor": 4
}
